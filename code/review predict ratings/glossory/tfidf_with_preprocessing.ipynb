{
 "cells": [
  {
   "cell_type": "code",
   "execution_count": 21,
   "metadata": {},
   "outputs": [],
   "source": [
    "# load supported packages\n",
    "import gensim\n",
    "from gensim.utils import simple_preprocess\n",
    "from gensim.parsing.preprocessing import STOPWORDS\n",
    "import pandas as pd\n",
    "import numpy as np\n",
    "np.random.seed(2018)\n",
    "from gensim.test.utils import common_texts\n",
    "from gensim.models.doc2vec import Doc2Vec, TaggedDocument\n",
    "from sklearn.linear_model import LogisticRegression\n",
    "from sklearn.model_selection import train_test_split\n",
    "\n",
    "from sklearn.metrics import mean_squared_error\n",
    "trainSize=1000\n",
    "testSize=100\n",
    "train = pd.read_json('..//data//review_train.json',orient = 'records',lines = True,chunksize=trainSize)\n",
    "train=next(train)\n",
    "test=pd.read_json('..//data//review_test.json',orient = 'records',lines = True,chunksize=testSize)\n",
    "test=next(test)\n",
    "#test=pd.read_json('..//data//review_test.json',orient = 'records',lines = True)\n",
    "\n",
    "trainText=train.iloc[:,3]\n",
    "testText=test.iloc[:,3]\n",
    "trainLabel=train.iloc[:,2].values\n",
    "text=np.concatenate([trainText.values,testText.values])\n",
    "\n",
    "del trainText\n",
    "del testText\n",
    "def preprocess(text): # tokenize\n",
    "    result = []\n",
    "    for token in gensim.utils.simple_preprocess(text):\n",
    "        if token not in gensim.parsing.preprocessing.STOPWORDS and len(token) > 3:\n",
    "            result.append(token)\n",
    "    return result\n",
    "reviewTrain = []\n",
    "for i in text:\n",
    "    reviewTrain.append(preprocess(i))\n",
    "del text\n",
    "text=[\" \".join(x) for x in reviewTrain]"
   ]
  },
  {
   "cell_type": "code",
   "execution_count": 22,
   "metadata": {},
   "outputs": [],
   "source": [
    "from sklearn.feature_extraction.text import TfidfVectorizer\n",
    "stopWord=['of','with','at','from','into','during',\n",
    "               'including','until','till','against','among',\n",
    "               'throughout','despite','towards','upon','concerning','to','in',\n",
    "               'for','on','by','about','like','through','over',\n",
    "               'before','between','after','since','without','under',\n",
    "               'within','along','following','across','behind',\n",
    "               'beyond','plus','except','but','up','out','around','down','off','above','near']\n",
    "tf = TfidfVectorizer(analyzer='word', max_features=10000,stop_words=stopWord ,lowercase = True)\n",
    "\n",
    "text2vec=  tf.fit_transform(text)"
   ]
  },
  {
   "cell_type": "code",
   "execution_count": 23,
   "metadata": {},
   "outputs": [
    {
     "name": "stdout",
     "output_type": "stream",
     "text": [
      "the score is 3.1366666666666667\n"
     ]
    }
   ],
   "source": [
    "#%%\n",
    "from sklearn.linear_model import LogisticRegression\n",
    "from sklearn.model_selection import train_test_split\n",
    "\n",
    "from sklearn.metrics import mean_squared_error\n",
    "lr=LogisticRegression(multi_class='multinomial',solver='newton-cg')\n",
    "#\n",
    "#\n",
    "X_train, X_test, y_train, y_test = train_test_split(text2vec[:trainSize,:], trainLabel, test_size=0.3, random_state=0)\n",
    "lr.fit(X_train,y_train)\n",
    "pred=lr.predict(X_test)\n",
    "print(\"the score is {}\".format(mean_squared_error(pred,y_test)))\n",
    "\n",
    "#%%\n",
    "lr.fit(text2vec[:trainSize,:],trainLabel)\n",
    "ylabel=lr.predict(text2vec[trainSize:,:])\n",
    "ylabel=np.array(ylabel)\n",
    "id=np.array(range(1,len(ylabel)+1))\n",
    "#header=np.array([[\"Id\",\"Expected\"]])\n",
    "y_pred=ylabel.reshape([-1,1])\n",
    "id=id.reshape([-1,1])\n",
    "ans=np.hstack((id,y_pred))\n",
    "with open(\"TueG1_submmit6.csv\", 'wb') as f:\n",
    "  f.write(b'Id,Expected\\n')\n",
    "\n",
    "  np.savetxt(f,ans,delimiter=\",\",fmt=\"%i,%i\")"
   ]
  }
 ],
 "metadata": {
  "kernelspec": {
   "display_name": "Python 3",
   "language": "python",
   "name": "python3"
  },
  "language_info": {
   "codemirror_mode": {
    "name": "ipython",
    "version": 3
   },
   "file_extension": ".py",
   "mimetype": "text/x-python",
   "name": "python",
   "nbconvert_exporter": "python",
   "pygments_lexer": "ipython3",
   "version": "3.7.1"
  }
 },
 "nbformat": 4,
 "nbformat_minor": 2
}
