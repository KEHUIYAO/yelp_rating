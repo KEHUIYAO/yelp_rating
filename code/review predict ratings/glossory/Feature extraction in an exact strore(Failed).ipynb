{
 "cells": [
  {
   "cell_type": "markdown",
   "metadata": {},
   "source": [
    "## Read first 10000 rows from json file"
   ]
  },
  {
   "cell_type": "code",
   "execution_count": 1,
   "metadata": {},
   "outputs": [],
   "source": [
    "import json\n",
    "import pandas as pd\n",
    "def read_json_nrows(nrows,filename):\n",
    "    n= 0\n",
    "    with open(filename) as f:\n",
    "        while n < nrows:\n",
    "            if n == 0:\n",
    "                line = f.readline()\n",
    "                line = json.loads(line.rstrip())\n",
    "                train = pd.DataFrame(line,index = [0])\n",
    "            else:\n",
    "                temp = pd.DataFrame(json.loads(f.readline().rstrip()),index = [n])\n",
    "                train = train.append(temp)\n",
    "            n = n+1\n",
    "    return train"
   ]
  },
  {
   "cell_type": "code",
   "execution_count": 2,
   "metadata": {},
   "outputs": [],
   "source": [
    "train_10000 = read_json_nrows(10000,'review_train.json')"
   ]
  },
  {
   "cell_type": "code",
   "execution_count": 3,
   "metadata": {},
   "outputs": [
    {
     "data": {
      "text/html": [
       "<div>\n",
       "<style scoped>\n",
       "    .dataframe tbody tr th:only-of-type {\n",
       "        vertical-align: middle;\n",
       "    }\n",
       "\n",
       "    .dataframe tbody tr th {\n",
       "        vertical-align: top;\n",
       "    }\n",
       "\n",
       "    .dataframe thead th {\n",
       "        text-align: right;\n",
       "    }\n",
       "</style>\n",
       "<table border=\"1\" class=\"dataframe\">\n",
       "  <thead>\n",
       "    <tr style=\"text-align: right;\">\n",
       "      <th></th>\n",
       "      <th>business_id</th>\n",
       "      <th>stars</th>\n",
       "      <th>text</th>\n",
       "      <th>date</th>\n",
       "    </tr>\n",
       "  </thead>\n",
       "  <tbody>\n",
       "    <tr>\n",
       "      <th>0</th>\n",
       "      <td>31292</td>\n",
       "      <td>1.0</td>\n",
       "      <td>Total bill for this horrible service? Over $8G...</td>\n",
       "      <td>2013-05-07 04:34:36</td>\n",
       "    </tr>\n",
       "    <tr>\n",
       "      <th>1</th>\n",
       "      <td>35344</td>\n",
       "      <td>5.0</td>\n",
       "      <td>I *adore* Travis at the Hard Rock's new Kelly ...</td>\n",
       "      <td>2017-01-14 21:30:33</td>\n",
       "    </tr>\n",
       "    <tr>\n",
       "      <th>2</th>\n",
       "      <td>152538</td>\n",
       "      <td>5.0</td>\n",
       "      <td>I have to say that this office really has it t...</td>\n",
       "      <td>2016-11-09 20:09:03</td>\n",
       "    </tr>\n",
       "    <tr>\n",
       "      <th>3</th>\n",
       "      <td>71871</td>\n",
       "      <td>5.0</td>\n",
       "      <td>Went in for a lunch. Steak sandwich was delici...</td>\n",
       "      <td>2018-01-09 20:56:38</td>\n",
       "    </tr>\n",
       "    <tr>\n",
       "      <th>4</th>\n",
       "      <td>64913</td>\n",
       "      <td>1.0</td>\n",
       "      <td>Today was my second out of three sessions I ha...</td>\n",
       "      <td>2018-01-30 23:07:38</td>\n",
       "    </tr>\n",
       "  </tbody>\n",
       "</table>\n",
       "</div>"
      ],
      "text/plain": [
       "   business_id  stars                                               text  \\\n",
       "0        31292    1.0  Total bill for this horrible service? Over $8G...   \n",
       "1        35344    5.0  I *adore* Travis at the Hard Rock's new Kelly ...   \n",
       "2       152538    5.0  I have to say that this office really has it t...   \n",
       "3        71871    5.0  Went in for a lunch. Steak sandwich was delici...   \n",
       "4        64913    1.0  Today was my second out of three sessions I ha...   \n",
       "\n",
       "                  date  \n",
       "0  2013-05-07 04:34:36  \n",
       "1  2017-01-14 21:30:33  \n",
       "2  2016-11-09 20:09:03  \n",
       "3  2018-01-09 20:56:38  \n",
       "4  2018-01-30 23:07:38  "
      ]
     },
     "execution_count": 3,
     "metadata": {},
     "output_type": "execute_result"
    }
   ],
   "source": [
    "train_10000.head(5)"
   ]
  },
  {
   "cell_type": "markdown",
   "metadata": {},
   "source": [
    "## Cleaning data"
   ]
  },
  {
   "cell_type": "code",
   "execution_count": 4,
   "metadata": {},
   "outputs": [],
   "source": [
    "from collections import Counter\n",
    "from nltk.util import ngrams\n",
    "import re\n",
    "import numpy as np \n",
    "from nltk.corpus import words\n",
    "from nltk.corpus import brown\n",
    "from nltk.corpus import wordnet\n",
    "from nltk import wordpunct_tokenize"
   ]
  },
  {
   "cell_type": "markdown",
   "metadata": {},
   "source": [
    "### Languages"
   ]
  },
  {
   "cell_type": "markdown",
   "metadata": {},
   "source": [
    "When I first tried to apply the *detect* function I got a 'No features in text' error. So I have to find out which review is empty."
   ]
  },
  {
   "cell_type": "code",
   "execution_count": 5,
   "metadata": {},
   "outputs": [
    {
     "data": {
      "text/plain": [
       "business_id                 137207\n",
       "stars                            1\n",
       "text                            :(\n",
       "date           2017-07-18 20:31:03\n",
       "Name: 6687, dtype: object"
      ]
     },
     "execution_count": 5,
     "metadata": {},
     "output_type": "execute_result"
    }
   ],
   "source": [
    "train_10000.loc[6687]"
   ]
  },
  {
   "cell_type": "markdown",
   "metadata": {},
   "source": [
    "This review is not language, but an emoticon."
   ]
  },
  {
   "cell_type": "code",
   "execution_count": 6,
   "metadata": {},
   "outputs": [],
   "source": [
    "def not_language(text):\n",
    "    # First delete all common emoticons.\n",
    "    text = re.sub('(?::|;|=)(?:-)?(?:\\)|\\(|D|P)','',text)\n",
    "    if re.sub('[\\W]+','',text) == '':\n",
    "        return True\n",
    "    else:\n",
    "        return False"
   ]
  },
  {
   "cell_type": "markdown",
   "metadata": {},
   "source": [
    "For simplicity, just consider emoticons as English."
   ]
  },
  {
   "cell_type": "code",
   "execution_count": 7,
   "metadata": {},
   "outputs": [],
   "source": [
    "not_lang = train_10000[train_10000.text.apply(not_language)].index.values"
   ]
  },
  {
   "cell_type": "code",
   "execution_count": 8,
   "metadata": {},
   "outputs": [],
   "source": [
    "train_10000.loc[not_lang,'lang_type'] = 'english'"
   ]
  },
  {
   "cell_type": "markdown",
   "metadata": {},
   "source": [
    "from nltk.corpus import stopwords\n",
    "from nltk import wordpunct_tokenize\n",
    "languages_ratios = {}\n",
    "for i in range(10000):\n",
    "    tokens = wordpunct_tokenize(train_10000.text[i])\n",
    "    words = [word.lower() for word in tokens]\n",
    "    for language in stopwords.fileids():\n",
    "        stopwords_set = set(stopwords.words(language))\n",
    "        words_set = set(words)\n",
    "        common_elements = words_set.intersection(stopwords_set)\n",
    "        languages_ratios[language] = len(common_elements)\n",
    "    most_rated_language = max(languages_ratios, key=languages_ratios.get)\n",
    "    train_10000.loc[i,'lang_type'] = most_rated_language"
   ]
  },
  {
   "cell_type": "code",
   "execution_count": 9,
   "metadata": {},
   "outputs": [],
   "source": [
    "from langdetect import detect\n",
    "for i in range(10000):\n",
    "    if i in not_lang:\n",
    "        continue\n",
    "    else:\n",
    "        train_10000.loc[i,'lang_type'] = detect(train_10000.text[i])"
   ]
  },
  {
   "cell_type": "code",
   "execution_count": 10,
   "metadata": {},
   "outputs": [
    {
     "data": {
      "text/plain": [
       "[':(']"
      ]
     },
     "execution_count": 10,
     "metadata": {},
     "output_type": "execute_result"
    }
   ],
   "source": [
    "re.findall(':[\\W]{0,1}',':(nmsl')"
   ]
  },
  {
   "cell_type": "code",
   "execution_count": 11,
   "metadata": {},
   "outputs": [
    {
     "data": {
      "text/plain": [
       "en         9956\n",
       "fr           37\n",
       "es            3\n",
       "it            1\n",
       "english       1\n",
       "ja            1\n",
       "de            1\n",
       "Name: lang_type, dtype: int64"
      ]
     },
     "execution_count": 11,
     "metadata": {},
     "output_type": "execute_result"
    }
   ],
   "source": [
    "train_10000.lang_type.value_counts()"
   ]
  },
  {
   "cell_type": "markdown",
   "metadata": {},
   "source": [
    "Focus on English only at present."
   ]
  },
  {
   "cell_type": "code",
   "execution_count": 12,
   "metadata": {},
   "outputs": [],
   "source": [
    "train_10000_eng = train_10000[train_10000.lang_type == 'en']"
   ]
  },
  {
   "cell_type": "code",
   "execution_count": 46,
   "metadata": {},
   "outputs": [],
   "source": [
    "train_10000_en = pd.DataFrame(train_10000_eng)"
   ]
  },
  {
   "cell_type": "markdown",
   "metadata": {},
   "source": [
    "Most common words and phrases."
   ]
  },
  {
   "cell_type": "code",
   "execution_count": 13,
   "metadata": {},
   "outputs": [
    {
     "data": {
      "text/plain": [
       "[(('the',), 43484),\n",
       " (('and',), 36445),\n",
       " (('I',), 27219),\n",
       " (('a',), 26196),\n",
       " (('to',), 25807),\n",
       " (('was',), 18766),\n",
       " (('of',), 15249),\n",
       " (('is',), 12814),\n",
       " (('for',), 12221),\n",
       " (('in',), 11026),\n",
       " (('it',), 9188),\n",
       " (('The',), 9180),\n",
       " (('with',), 8640),\n",
       " (('my',), 8424),\n",
       " (('that',), 8146),\n",
       " (('but',), 7072),\n",
       " (('on',), 7003),\n",
       " (('have',), 6583),\n",
       " (('you',), 6540),\n",
       " (('this',), 6388)]"
      ]
     },
     "execution_count": 13,
     "metadata": {},
     "output_type": "execute_result"
    }
   ],
   "source": [
    "text = ' '.join(train_10000_eng.text.values)\n",
    "text_trigrams = [i for i in ngrams(text.split(), 1)]\n",
    "Counter(text_trigrams).most_common(20)"
   ]
  },
  {
   "cell_type": "code",
   "execution_count": 14,
   "metadata": {},
   "outputs": [
    {
     "data": {
      "text/plain": [
       "[(('of', 'the'), 3443),\n",
       " (('and', 'the'), 2772),\n",
       " (('in', 'the'), 2722),\n",
       " (('it', 'was'), 2336),\n",
       " (('I', 'was'), 2307),\n",
       " (('on', 'the'), 2107),\n",
       " (('and', 'I'), 2017),\n",
       " (('to', 'the'), 1836),\n",
       " (('for', 'the'), 1732),\n",
       " (('for', 'a'), 1732),\n",
       " (('I', 'had'), 1559),\n",
       " (('I', 'have'), 1490),\n",
       " (('is', 'a'), 1378),\n",
       " (('to', 'be'), 1358),\n",
       " (('was', 'a'), 1313),\n",
       " (('this', 'place'), 1278),\n",
       " (('with', 'the'), 1262),\n",
       " (('at', 'the'), 1245),\n",
       " (('with', 'a'), 1216),\n",
       " (('to', 'get'), 1206)]"
      ]
     },
     "execution_count": 14,
     "metadata": {},
     "output_type": "execute_result"
    }
   ],
   "source": [
    "text = ' '.join(train_10000_eng.text.values)\n",
    "text_trigrams = [i for i in ngrams(text.split(), 2)]\n",
    "Counter(text_trigrams).most_common(20)"
   ]
  },
  {
   "cell_type": "code",
   "execution_count": 15,
   "metadata": {},
   "outputs": [
    {
     "data": {
      "text/plain": [
       "[(('and', 'it', 'was'), 516),\n",
       " (('one', 'of', 'the'), 451),\n",
       " (('a', 'lot', 'of'), 392),\n",
       " (('I', 'had', 'the'), 338),\n",
       " (('This', 'place', 'is'), 316),\n",
       " (('I', 'have', 'been'), 265),\n",
       " (('I', 'had', 'to'), 262),\n",
       " (('the', 'food', 'was'), 254),\n",
       " (('I', 'ordered', 'the'), 247),\n",
       " (('it', 'was', 'a'), 244),\n",
       " (('of', 'the', 'best'), 239),\n",
       " (('The', 'food', 'was'), 237),\n",
       " (('I', 'had', 'a'), 236),\n",
       " (('some', 'of', 'the'), 206),\n",
       " (('The', 'food', 'is'), 199),\n",
       " (('this', 'place', 'is'), 198),\n",
       " (('The', 'service', 'was'), 187),\n",
       " (('the', 'food', 'is'), 187),\n",
       " (('to', 'get', 'a'), 182),\n",
       " (('This', 'is', 'a'), 181)]"
      ]
     },
     "execution_count": 15,
     "metadata": {},
     "output_type": "execute_result"
    }
   ],
   "source": [
    "text = ' '.join(train_10000_eng.text.values)\n",
    "text_trigrams = [i for i in ngrams(text.split(), 3)]\n",
    "Counter(text_trigrams).most_common(20)"
   ]
  },
  {
   "cell_type": "code",
   "execution_count": 16,
   "metadata": {},
   "outputs": [
    {
     "data": {
      "text/plain": [
       "[(('one', 'of', 'the', 'best'), 126),\n",
       " (('My', 'husband', 'and', 'I'), 88),\n",
       " (('I', 'will', 'definitely', 'be'), 77),\n",
       " (('is', 'one', 'of', 'the'), 73),\n",
       " (('the', 'end', 'of', 'the'), 67),\n",
       " (('in', 'the', 'middle', 'of'), 65),\n",
       " (('for', 'the', 'first', 'time'), 65),\n",
       " (('a', 'great', 'place', 'to'), 62),\n",
       " (('some', 'of', 'the', 'best'), 60),\n",
       " (('and', 'the', 'service', 'was'), 56),\n",
       " (('you', 'are', 'looking', 'for'), 55),\n",
       " (('was', 'one', 'of', 'the'), 54),\n",
       " (('and', 'the', 'food', 'was'), 53),\n",
       " (('I', 'have', 'to', 'say'), 52),\n",
       " (('My', 'wife', 'and', 'I'), 50),\n",
       " (('and', 'the', 'food', 'is'), 50),\n",
       " (('was', 'my', 'first', 'time'), 49),\n",
       " (('one', 'of', 'my', 'favorite'), 49),\n",
       " (('the', 'rest', 'of', 'the'), 48),\n",
       " (('I', \"can't\", 'wait', 'to'), 47)]"
      ]
     },
     "execution_count": 16,
     "metadata": {},
     "output_type": "execute_result"
    }
   ],
   "source": [
    "text = ' '.join(train_10000_eng.text.values)\n",
    "text_trigrams = [i for i in ngrams(text.split(), 4)]\n",
    "Counter(text_trigrams).most_common(20)"
   ]
  },
  {
   "cell_type": "markdown",
   "metadata": {},
   "source": [
    "Oddest words"
   ]
  },
  {
   "cell_type": "code",
   "execution_count": 17,
   "metadata": {},
   "outputs": [
    {
     "data": {
      "text/plain": [
       "[(('qualified,',), 1),\n",
       " (('exuded',), 1),\n",
       " ((\"'cool'\",), 1),\n",
       " (('Danny.',), 1),\n",
       " (('accord',), 1),\n",
       " (('b-day.',), 1),\n",
       " (('Terroni.',), 1),\n",
       " (('raptor',), 1),\n",
       " (('flats',), 1),\n",
       " (('gripe...no',), 1),\n",
       " (('GPS?',), 1),\n",
       " (('yardage',), 1),\n",
       " (('caliber,',), 1),\n",
       " (('troon',), 1),\n",
       " (('Quintero',), 1),\n",
       " (('parking....my',), 1),\n",
       " (('pefect',), 1),\n",
       " (('Dewy',), 1),\n",
       " (('appoinment,',), 1),\n",
       " (('in...)',), 1),\n",
       " (('HVAC/Electrical/etc...',), 1),\n",
       " (('electrical....(I',), 1),\n",
       " (('NHW',), 1),\n",
       " (('compressor',), 1),\n",
       " (('verified',), 1),\n",
       " (('TUESDAY',), 1),\n",
       " (('compressor....',), 1),\n",
       " (('occasions....',), 1),\n",
       " (('SH!*',), 1),\n",
       " (('Moe',), 1),\n",
       " (('matted',), 1),\n",
       " (('Choosing',), 1),\n",
       " (('changing,',), 1),\n",
       " (('eats!',), 1),\n",
       " (('loong',), 1),\n",
       " (('lo-mean,',), 1),\n",
       " (('Discovered',), 1),\n",
       " (('Beach.',), 1),\n",
       " (('Thrilled',), 1),\n",
       " (('favs:',), 1),\n",
       " (('DELISH!)',), 1),\n",
       " (('is..',), 1),\n",
       " (('Woo',), 1),\n",
       " (('Che.',), 1),\n",
       " (('grilles,',), 1),\n",
       " (('bugogi',), 1),\n",
       " (('thicker,',), 1),\n",
       " (('Louie,',), 1),\n",
       " (('hmmm,',), 1),\n",
       " (('names),',), 1),\n",
       " ((\"'flatbread'\",), 1),\n",
       " ((\"'tacos',\",), 1),\n",
       " (('specialized?',), 1),\n",
       " ((\"'asian\",), 1),\n",
       " ((\"sauce',\",), 1),\n",
       " ((\"'12'\",), 1),\n",
       " ((\"'5',\",), 1),\n",
       " (('singing,',), 1),\n",
       " ((\"'it\",), 1),\n",
       " ((\"somewhere',\",), 1),\n",
       " ((\"'let's\",), 1),\n",
       " ((\"drink'!\",), 1),\n",
       " (('hoopla',), 1),\n",
       " (('pedestrians.',), 1),\n",
       " (('t.o.',), 1),\n",
       " (('piazza...might',), 1),\n",
       " (('cobblestones',), 1),\n",
       " (('though...better',), 1),\n",
       " (('distillery.',), 1),\n",
       " (('food/drinks',), 1),\n",
       " (('scoreboard',), 1),\n",
       " (('keeps!',), 1),\n",
       " (('amusing',), 1),\n",
       " (('experience.Ordered',), 1),\n",
       " (('Yada.',), 1),\n",
       " (('Dina',), 1),\n",
       " (('Yemen',), 1),\n",
       " (('master.',), 1),\n",
       " (('Samples',), 1),\n",
       " (('EZMart',), 1),\n",
       " (('Ames.',), 1),\n",
       " (('saxby',), 1),\n",
       " (('denizens',), 1),\n",
       " (('bodied',), 1),\n",
       " (('A+++',), 1),\n",
       " (('Ultra',), 1),\n",
       " (('Cooling.',), 1),\n",
       " (('&Pylte',), 1),\n",
       " (('YUMMMMMMMMMMMMMMMMM',), 1),\n",
       " (('consumer.',), 1),\n",
       " (('finish...',), 1),\n",
       " (('Africa...\"',), 1),\n",
       " (('\"famous\".',), 1),\n",
       " (('zagat',), 1),\n",
       " (('exaggerated',), 1),\n",
       " (('Dor-Stop.',), 1),\n",
       " (('incredible?',), 1),\n",
       " (('jumbot,',), 1),\n",
       " (('verbally.',), 1),\n",
       " (('catch.',), 1),\n",
       " (('flavor/seasoning',), 1),\n",
       " (('(tasted',), 1),\n",
       " (('powder-based).',), 1),\n",
       " (('wetter',), 1),\n",
       " (('scrambled.',), 1),\n",
       " (('Edmonton,',), 1),\n",
       " (('MEH.',), 1),\n",
       " (('advantage)',), 1),\n",
       " (('\"Hi\"',), 1),\n",
       " (('you?\")',), 1),\n",
       " (('thrusting',), 1),\n",
       " (('fliers',), 1),\n",
       " (('WITNESSED',), 1),\n",
       " (('guarentee',), 1),\n",
       " (('drummed',), 1),\n",
       " (('expire).',), 1),\n",
       " (('cringing',), 1),\n",
       " (('sip).',), 1),\n",
       " (('GOING',), 1),\n",
       " (('distractions)',), 1),\n",
       " (('13/30',), 1),\n",
       " (('Froyo',), 1),\n",
       " (('Kokomo.',), 1),\n",
       " (('networking',), 1),\n",
       " (('colleagues!',), 1),\n",
       " (('sport.',), 1),\n",
       " (('Hotels.com',), 1),\n",
       " (('CPKs,',), 1),\n",
       " (('top-of-the-line',), 1),\n",
       " (('strip-center',), 1),\n",
       " (('(save',), 1),\n",
       " (('cleanest',), 1),\n",
       " (('cooked.Not',), 1),\n",
       " (('Before,',), 1),\n",
       " (('\"French',), 1),\n",
       " (('Grocery\"',), 1),\n",
       " (('\"French\",',), 1),\n",
       " (('\"Grocery\"',), 1),\n",
       " (('tostadas.',), 1),\n",
       " (('chef!!',), 1),\n",
       " (('antipasta.',), 1),\n",
       " (('waiter\"Jordan\"',), 1),\n",
       " (('Hawaii?',), 1),\n",
       " (('mega-bucks,',), 1),\n",
       " (('Franklin',), 1),\n",
       " (('Crafts,',), 1),\n",
       " (('Wal-Mart',), 1),\n",
       " (('crafter',), 1),\n",
       " (('Oahu',), 1),\n",
       " (('California:',), 1),\n",
       " (('beads,',), 1),\n",
       " (('baubles,',), 1),\n",
       " (('frames,',), 1),\n",
       " (('Franklin,',), 1),\n",
       " (('cashieer',), 1),\n",
       " (('super-friendly',), 1),\n",
       " (('cafe~',), 1),\n",
       " (('Coffees,',), 1),\n",
       " (('well~',), 1),\n",
       " (('\"minor\"',), 1),\n",
       " (('$54',), 1),\n",
       " (('skyrocket',), 1),\n",
       " (('15-18',), 1),\n",
       " (('clinica',), 1),\n",
       " (('familia',), 1),\n",
       " (('expensive?',), 1),\n",
       " (('guys?',), 1),\n",
       " (('slices...on',), 1),\n",
       " (('Henderson,',), 1),\n",
       " (('Sam.',), 1),\n",
       " (('lesbians.',), 1),\n",
       " (('LGBT',), 1),\n",
       " (('...weird)',), 1),\n",
       " (('massages,',), 1),\n",
       " (('(peeled',), 1),\n",
       " (('eat)',), 1),\n",
       " (('Ethnic',), 1),\n",
       " (('Cajun,',), 1),\n",
       " (('2:30pm.',), 1),\n",
       " (('Arizona...',), 1),\n",
       " (('appreciative.',), 1),\n",
       " (('elote',), 1),\n",
       " (('specialists.',), 1),\n",
       " (('5:30pm',), 1),\n",
       " (('\"ok\",',), 1),\n",
       " (('under.',), 1),\n",
       " (('Hhhhhhoooorible!',), 1),\n",
       " (('RECEPTIONIST',), 1),\n",
       " (('HUFFED',), 1),\n",
       " (('PUFFED',), 1),\n",
       " (('\"ok,status',), 1),\n",
       " (('quo',), 1),\n",
       " (('restaurant\"',), 1),\n",
       " (('transplants',), 1),\n",
       " (('2).',), 1),\n",
       " (('seated.\"',), 1),\n",
       " (('SIT',), 1),\n",
       " (('COMMUNAL',), 1),\n",
       " (('TABLE?\"',), 1),\n",
       " (('serval',), 1),\n",
       " (('tables(besides',), 1),\n",
       " (('EMPTY!i',), 1),\n",
       " (('when?',), 1),\n",
       " (('defeat',), 1),\n",
       " (('COMMUNAL?',), 1),\n",
       " (('charge\"',), 1),\n",
       " (('side......',), 1),\n",
       " (('\"....In',), 1),\n",
       " (('54',), 1),\n",
       " (('mark!',), 1),\n",
       " (('will......and',), 1),\n",
       " (('GRADE:',), 1),\n",
       " (('FAIL!',), 1),\n",
       " (('greatest?',), 1),\n",
       " (('evolves',), 1),\n",
       " (('leaps',), 1),\n",
       " (('Roll?',), 1),\n",
       " (('scientists',), 1),\n",
       " (('instead?',), 1),\n",
       " (('sectional.',), 1),\n",
       " (('snatching',), 1),\n",
       " (('\"Sugar',), 1),\n",
       " (('Raw\",',), 1),\n",
       " (('critter',), 1),\n",
       " (('nice.)',), 1),\n",
       " (('tolerating',), 1),\n",
       " (('moi.',), 1),\n",
       " (('(outside',), 1),\n",
       " (('Savannah).',), 1),\n",
       " (('fancy-pants',), 1),\n",
       " (('chicken-y?',), 1),\n",
       " (('uber-romantic',), 1),\n",
       " (('not-great',), 1),\n",
       " (('table.....Sigh',), 1),\n",
       " (('389,',), 1),\n",
       " (('june',), 1),\n",
       " (('11,2016,',), 1),\n",
       " (('8:45pm',), 1),\n",
       " (('Airport,',), 1),\n",
       " (('Crown',), 1),\n",
       " (('junk.',), 1),\n",
       " (('TRIED',), 1),\n",
       " (('backseat.',), 1),\n",
       " (('SQUEEZED',), 1),\n",
       " (('weave',), 1),\n",
       " (('junkpile.',), 1),\n",
       " (('headrest',), 1),\n",
       " (('BLARING',), 1),\n",
       " (('Dangerously',), 1),\n",
       " (('Louis-Simon',), 1),\n",
       " (('Ca',), 1),\n",
       " (('Roule.',), 1),\n",
       " (('perched',), 1),\n",
       " (('\"Dining',), 1),\n",
       " (('Arroyo\"',), 1),\n",
       " (('dining/lounge',), 1),\n",
       " (('table),',), 1),\n",
       " (('unmotivated',), 1),\n",
       " (('upscale-casual',), 1),\n",
       " (('match..',), 1),\n",
       " (('saying..',), 1),\n",
       " (('Wiseguy.',), 1),\n",
       " (('wiseguy.',), 1),\n",
       " (('pizza),',), 1),\n",
       " (('splurging',), 1),\n",
       " (('while?',), 1),\n",
       " (('juggernauts,',), 1),\n",
       " (('LGO,',), 1),\n",
       " (('groovy.',), 1),\n",
       " (('adjective',), 1),\n",
       " (('skeletons',), 1),\n",
       " (('overshadow',), 1),\n",
       " (('interesting--short,',), 1),\n",
       " (('pie!',), 1),\n",
       " (('down),',), 1),\n",
       " (('jenga).',), 1),\n",
       " (('meal!!',), 1),\n",
       " (('\"conservative\"',), 1),\n",
       " (('Republican',), 1),\n",
       " (('mayor',), 1),\n",
       " (('\"Trib\"',), 1),\n",
       " (('Greensburg',), 1),\n",
       " (('strike.',), 1),\n",
       " (('Press,',), 1),\n",
       " (('1992',), 1),\n",
       " (('Mellon',), 1),\n",
       " (('Review,',), 1),\n",
       " (('conservative,',), 1),\n",
       " (('afloat.',), 1),\n",
       " (('1992,',), 1),\n",
       " (('\"Pittsburgh',), 1),\n",
       " (('Review\"',), 1),\n",
       " (('Democrats,',), 1),\n",
       " (('strike,',), 1),\n",
       " (('absorbed',), 1),\n",
       " (('publication',), 1),\n",
       " (('supermarkets,',), 1),\n",
       " (('stored.',), 1),\n",
       " (('comics,',), 1),\n",
       " (('obituaries',), 1),\n",
       " (('ads.',), 1),\n",
       " (('low-lit,',), 1),\n",
       " (('BYOB!',), 1),\n",
       " (('eaten!!',), 1),\n",
       " (('go-',), 1),\n",
       " (('tempeh',), 1),\n",
       " (('night!!!',), 1),\n",
       " (('lot!!!',), 1),\n",
       " (('65+',), 1),\n",
       " (('45+',), 1),\n",
       " (('helluva',), 1),\n",
       " (('meal.\"',), 1),\n",
       " (('ROACHES',), 1),\n",
       " (('不要在这里吃！',), 1),\n",
       " (('我们刚在这里吃午饭，在我们的汤里发现了一个蟑螂，我把它展示给服务员，她说：哦，对不起。你不必付饭费\"，这意味着他们的厨房里有很多蟑螂，他们知道，她一点都不惊讶。',),\n",
       "  1),\n",
       " (('ommmmmg',), 1),\n",
       " ((\"Roberto's,\",), 1),\n",
       " (('curiosity,',), 1),\n",
       " ((\"Ami's\",), 1),\n",
       " ((\"Angeles'\",), 1),\n",
       " (('Koreatown',), 1),\n",
       " (('Koreatown,',), 1),\n",
       " (('enclave',), 1),\n",
       " (('\"halmoni\"',), 1),\n",
       " (('grandkids,',), 1),\n",
       " (('\"Express\"',), 1),\n",
       " (('crib.',), 1),\n",
       " (('\"express\"',), 1),\n",
       " (('configure',), 1),\n",
       " (('respectively).',), 1),\n",
       " (('verdict?',), 1),\n",
       " (('bu,',), 1),\n",
       " (('bap,',), 1),\n",
       " (('Delicous!!',), 1),\n",
       " (('against?',), 1),\n",
       " (('altercation,',), 1),\n",
       " (('deprecation',), 1),\n",
       " (('atmospheric',), 1),\n",
       " ((\"mark...I've\",), 1),\n",
       " (('downpoint.',), 1),\n",
       " (('anyway),',), 1),\n",
       " (('fresh.....',), 1),\n",
       " ((\"Italian...it's\",), 1),\n",
       " (('waterfall/pool',), 1),\n",
       " (('$5-10',), 1),\n",
       " (('fleek!',), 1),\n",
       " (('(strange',), 1),\n",
       " (('know),',), 1),\n",
       " (('Monorail',), 1),\n",
       " (('air!',), 1),\n",
       " (('Literally,',), 1),\n",
       " (('bells',), 1),\n",
       " (('friendly;',), 1),\n",
       " (('Damian',), 1),\n",
       " (('eighty',), 1),\n",
       " (('SIDE',), 1),\n",
       " (('EFFECTS',), 1),\n",
       " (('prescribed.',), 1),\n",
       " (('is.\"',), 1),\n",
       " (('elderly!',), 1),\n",
       " ((\"Lee's.\",), 1),\n",
       " (('prob.',), 1),\n",
       " ((\"won'\",), 1),\n",
       " (('registered',), 1),\n",
       " (('psssh',), 1),\n",
       " (('bye!',), 1),\n",
       " (('blah!!!',), 1),\n",
       " (('POW',), 1),\n",
       " (('BANG.',), 1),\n",
       " ((\"Ashley's\",), 1),\n",
       " (('exhibition',), 1),\n",
       " (('animation',), 1),\n",
       " (('cartoons',), 1),\n",
       " (('SpongeBob',), 1),\n",
       " (('SquarePants,',), 1),\n",
       " (('Looney',), 1),\n",
       " (('Tunes,',), 1),\n",
       " (('beer/pint',), 1),\n",
       " (('empanada..',), 1),\n",
       " (('(running',), 1),\n",
       " (('(non-toxic',), 1),\n",
       " (('materials,',), 1),\n",
       " (('insulation,',), 1),\n",
       " (('museum!',), 1),\n",
       " (('piggy,',), 1),\n",
       " (('11:50',), 1),\n",
       " (('matinee!',), 1),\n",
       " (('Tequila.',), 1),\n",
       " (('\"one',), 1),\n",
       " (('hundred,',), 1),\n",
       " (('spiny',), 1),\n",
       " (('plants\"',), 1),\n",
       " (('that...they',), 1),\n",
       " (('tequila...lots',), 1),\n",
       " (('tequila...a',), 1),\n",
       " (('siphon',), 1),\n",
       " (('1978',), 1),\n",
       " (('Nogales',), 1),\n",
       " (('evidently,',), 1),\n",
       " (('agaves',), 1),\n",
       " (('believed).',), 1),\n",
       " (('club\"...nice!',), 1),\n",
       " (('club\"',), 1),\n",
       " (('bulletproof...I',), 1),\n",
       " (('\"tequila\"',), 1),\n",
       " (('agaves,',), 1),\n",
       " (('(whoever',), 1),\n",
       " (('\"they\"',), 1),\n",
       " (('control...I',), 1),\n",
       " (('juice:)',), 1),\n",
       " (('club...you',), 1),\n",
       " (('thanking',), 1),\n",
       " (('stars:)',), 1),\n",
       " (('euphemism...dear',), 1),\n",
       " (('privilege:)',), 1),\n",
       " (('today...no,',), 1),\n",
       " (('Tecate',), 1),\n",
       " ((\"cerveza's\",), 1),\n",
       " (('silly...dad',), 1),\n",
       " (('buying:)',), 1),\n",
       " (('BTW).',), 1),\n",
       " (('tacos...(ok,',), 1),\n",
       " (('salty...and',), 1),\n",
       " (('salty...',), 1),\n",
       " (('jam-packed',), 1),\n",
       " (('tacos...I',), 1),\n",
       " (('club:)',), 1),\n",
       " (('Haylee',), 1),\n",
       " (('y.o.',), 1),\n",
       " (('jeep.',), 1),\n",
       " (('(Camry',), 1),\n",
       " (('SE),',), 1),\n",
       " (('visually.',), 1),\n",
       " (('bleached',), 1),\n",
       " (('blond.',), 1),\n",
       " (('(Meaning',), 1),\n",
       " (('fades,',), 1),\n",
       " (('Sunny',), 1),\n",
       " (('Clay',), 1),\n",
       " (('achievement.',), 1),\n",
       " (('deliver....This',), 1),\n",
       " (('family/table',), 1),\n",
       " (('conveinent',), 1),\n",
       " (('\"Mike\"',), 1),\n",
       " (('shake.....which',), 1),\n",
       " (('Relaxing',), 1),\n",
       " (('Table-side',), 1),\n",
       " (('Humor',), 1),\n",
       " (('Physician,',), 1),\n",
       " (('Jongeys',), 1),\n",
       " (('anesthetic',), 1),\n",
       " (('Hummmm...',), 1),\n",
       " (('\"new',), 1),\n",
       " (('drugs\"',), 1),\n",
       " (('\"better\",',), 1),\n",
       " (('injections',), 1),\n",
       " (('momentary)',), 1),\n",
       " (('\"at-home\"',), 1),\n",
       " (('post-surgical',), 1),\n",
       " (('Kyou',), 1),\n",
       " (('free-gluten',), 1),\n",
       " (('(bun',), 1),\n",
       " (('requested)',), 1),\n",
       " (('whack-a-mole',), 1),\n",
       " (('\"Southern',), 1),\n",
       " (('Burger\"',), 1),\n",
       " (('spooky)',), 1),\n",
       " (('adequately',), 1),\n",
       " (('toppinged',), 1),\n",
       " (('burning,',), 1),\n",
       " (('(yea',), 1),\n",
       " (('gloves!)',), 1),\n",
       " (('reclaimed-paper',), 1),\n",
       " (('capacity.',), 1),\n",
       " (('location(',), 1),\n",
       " (('problens',), 1),\n",
       " (('york',), 1),\n",
       " (('SLS.',), 1),\n",
       " (('Landmark',), 1),\n",
       " (('Village.',), 1),\n",
       " (('cosy',), 1),\n",
       " (('$0.85',), 1),\n",
       " (('bag)',), 1),\n",
       " (('\"etsu\"just',), 1),\n",
       " (('$8.95',), 1),\n",
       " (('Toronto),',), 1),\n",
       " (('lacking/confusing',), 1),\n",
       " (('Baldwin.',), 1),\n",
       " (('Baldwin,',), 1),\n",
       " (('Konnichiwa',), 1),\n",
       " (('Bocca.',), 1),\n",
       " ((',felt',), 1),\n",
       " (('balyaged',), 1),\n",
       " (('constantly!',), 1),\n",
       " (('bellpeppers,',), 1),\n",
       " (('Pam',), 1),\n",
       " (('willingly',), 1),\n",
       " (('accommodated!',), 1),\n",
       " (('(Matt!)',), 1),\n",
       " (('visit--worth',), 1)]"
      ]
     },
     "execution_count": 17,
     "metadata": {},
     "output_type": "execute_result"
    }
   ],
   "source": [
    "text = ' '.join(train_10000_eng.text.values)\n",
    "text_trigrams = [i for i in ngrams(text.split(), 1)]\n",
    "Counter(text_trigrams).most_common()[-500:]"
   ]
  },
  {
   "cell_type": "markdown",
   "metadata": {},
   "source": [
    "Here I found two sentences in Chinese:\n",
    "- (('不要在这里吃！',), 1),\n",
    "- (('我们刚在这里吃午饭，在我们的汤里发现了一个蟑螂，我把它展示给服务员，她说：哦，对不起。你不必付饭费\"，这意味着他们的厨房里有很多蟑螂，他们知道，她一点都不惊讶。',),  \n",
    "\n",
    "Most of these rare words have some punctuations."
   ]
  },
  {
   "cell_type": "code",
   "execution_count": 18,
   "metadata": {},
   "outputs": [
    {
     "data": {
      "text/plain": [
       "[(('visit!', \"Haven't\"), 1),\n",
       " (('years', 'bc'), 1),\n",
       " (('something', 'drew'), 1),\n",
       " (('whites', 'mixed'), 1),\n",
       " (('with', 'bellpeppers,'), 1),\n",
       " (('bellpeppers,', 'onions'), 1),\n",
       " (('tomatoes,', 'avocado'), 1),\n",
       " (('fruit,', 'with'), 1),\n",
       " (('muffin.', 'Super'), 1),\n",
       " (('Super', 'healthy'), 1),\n",
       " (('with', 'Pam'), 1),\n",
       " (('Pam', 'instead'), 1),\n",
       " (('they', 'willingly'), 1),\n",
       " (('willingly', 'accommodated!'), 1),\n",
       " (('accommodated!', 'This'), 1),\n",
       " (('server', '(Matt!)'), 1),\n",
       " (('(Matt!)', 'was'), 1),\n",
       " (('AWESOME!', 'Come'), 1),\n",
       " (('and', 'visit--worth'), 1),\n",
       " (('visit--worth', 'it!'), 1)]"
      ]
     },
     "execution_count": 18,
     "metadata": {},
     "output_type": "execute_result"
    }
   ],
   "source": [
    "text = ' '.join(train_10000_eng.text.values)\n",
    "text_trigrams = [i for i in ngrams(text.split(), 2)]\n",
    "Counter(text_trigrams).most_common()[-20:]"
   ]
  },
  {
   "cell_type": "markdown",
   "metadata": {},
   "source": [
    "### Check bad words"
   ]
  },
  {
   "cell_type": "markdown",
   "metadata": {},
   "source": [
    "#### First emoticons"
   ]
  },
  {
   "cell_type": "code",
   "execution_count": 19,
   "metadata": {},
   "outputs": [],
   "source": [
    "def find_emoticons(text):\n",
    "    emoticons = re.findall('(?::|;|=)(?:-)?(?:\\)|\\(|D|P)',text)\n",
    "    if emoticons == []:\n",
    "        return False\n",
    "    else:\n",
    "        return True"
   ]
  },
  {
   "cell_type": "code",
   "execution_count": 20,
   "metadata": {},
   "outputs": [],
   "source": [
    "eg1 = np.where(train_10000_eng.text.apply(find_emoticons) == True)[0][0]"
   ]
  },
  {
   "cell_type": "code",
   "execution_count": 21,
   "metadata": {},
   "outputs": [
    {
     "data": {
      "text/plain": [
       "\"Man, I love Toronto! Hiding in a strip mall on Overlea, find a dingy looking restaurant that serves up fantastic, cheap kabob...be warned regardless of when you come here you'll likely be waiting for a table as this place is always overrun with people...If you're a fan of perfectly grilled spicy meat, you must try this place out...now that I've been here I need to limit how many times I go here per month :)\\n\\nTake the drive out and have some kabob...if you don't own a car, borrow one or get a zipcar membership...totally worth it!\""
      ]
     },
     "execution_count": 21,
     "metadata": {},
     "output_type": "execute_result"
    }
   ],
   "source": [
    "train_10000_eng.iloc[eg1].text"
   ]
  },
  {
   "cell_type": "markdown",
   "metadata": {},
   "source": [
    "Here we can find one  :)  together with two '\\n' "
   ]
  },
  {
   "cell_type": "code",
   "execution_count": 22,
   "metadata": {},
   "outputs": [
    {
     "data": {
      "text/plain": [
       "\"Man, I love Toronto! Hiding in a strip mall on Overlea, find a dingy looking restaurant that serves up fantastic, cheap kabob...be warned regardless of when you come here you'll likely be waiting for a table as this place is always overrun with people...If you're a fan of perfectly grilled spicy meat, you must try this place out...now that I've been here I need to limit how many times I go here per month :)Take the drive out and have some kabob...if you don't own a car, borrow one or get a zipcar membership...totally worth it!\""
      ]
     },
     "execution_count": 22,
     "metadata": {},
     "output_type": "execute_result"
    }
   ],
   "source": [
    "re.sub('\\\\n','',train_10000_eng.iloc[eg1].text)"
   ]
  },
  {
   "cell_type": "markdown",
   "metadata": {},
   "source": [
    "#### Check typos"
   ]
  },
  {
   "cell_type": "code",
   "execution_count": 22,
   "metadata": {},
   "outputs": [],
   "source": [
    "# Most packages can't handle some words like 'nooooo'. \n",
    "def check_same(word):\n",
    "    intervals = {}\n",
    "    for index,letter in enumerate(word):\n",
    "        if letter == word[index-1]:\n",
    "            if letter in intervals.keys():\n",
    "                interval = intervals.pop(letter)\n",
    "                lastguy = interval[len(interval)-1] \n",
    "                if lastguy[1] == (index-1):\n",
    "                    lastguy = (lastguy[0],index)\n",
    "                    interval[len(interval)-1] = lastguy\n",
    "                    intervals[letter] = interval\n",
    "                else:\n",
    "                    lastguy1 = (index-1,index)\n",
    "                    interval.append(lastguy1)\n",
    "                    intervals[letter] = interval\n",
    "            else:\n",
    "                intervals[letter] = [(index-1,index)]\n",
    "    return intervals"
   ]
  },
  {
   "cell_type": "code",
   "execution_count": 23,
   "metadata": {},
   "outputs": [],
   "source": [
    "# I have never seen a word with three continuous same letter, so I will delete till two.\n",
    "def no_more_than_2(word,dupli):\n",
    "    for key in dupli.keys():\n",
    "        for interval in dupli[key]:\n",
    "            length = interval[1]-interval[0]+1\n",
    "            regex = '(%s'%key + '{%i})'%length\n",
    "            word = re.sub(regex,key+key,word)\n",
    "    return word"
   ]
  },
  {
   "cell_type": "code",
   "execution_count": 24,
   "metadata": {},
   "outputs": [],
   "source": [
    "from pattern.en import suggest\n",
    "from itertools import combinations\n",
    "def right_spelling(word,dupli):\n",
    "    key_list = []\n",
    "    for key in dupli.keys():\n",
    "        key_list.append(key)\n",
    "    n = len(key_list)\n",
    "    for i in range(n):\n",
    "        for comb in combinations(key_list,i):\n",
    "            for letter in comb:\n",
    "                regex = '(%s'%letter + '{2})'\n",
    "                new_word = re.sub(regex,letter,word)\n",
    "                if new_word in brown.words():\n",
    "                    return new_word\n",
    "    return suggest(word)[0][0]"
   ]
  },
  {
   "cell_type": "code",
   "execution_count": 25,
   "metadata": {},
   "outputs": [],
   "source": [
    "def no_typo(word):\n",
    "    if len(word) == len(set(word)):\n",
    "        return word\n",
    "    if suggest(word)[0][1] == 1:\n",
    "        return suggest(word)[0][0]\n",
    "    else:\n",
    "        duplicates = check_same(word)\n",
    "        two = no_more_than_2(word,duplicates)\n",
    "        suggest_two = suggest(two)\n",
    "        if suggest_two[0][1] == 1:\n",
    "            return suggest_two[0][0]\n",
    "        else:\n",
    "            return right_spelling(two,duplicates)\n",
    "        \n",
    "        return right_spelling(word)"
   ]
  },
  {
   "cell_type": "code",
   "execution_count": 26,
   "metadata": {},
   "outputs": [
    {
     "data": {
      "text/plain": [
       "'finally'"
      ]
     },
     "execution_count": 26,
     "metadata": {},
     "output_type": "execute_result"
    }
   ],
   "source": [
    "no_typo('finaaallly')"
   ]
  },
  {
   "cell_type": "markdown",
   "metadata": {},
   "source": [
    "#### Lemmatization"
   ]
  },
  {
   "cell_type": "code",
   "execution_count": 27,
   "metadata": {},
   "outputs": [],
   "source": [
    "from nltk.stem import WordNetLemmatizer\n",
    "from nltk.stem.porter import PorterStemmer\n",
    "from nltk import word_tokenize, pos_tag\n",
    "from nltk.corpus import wordnet"
   ]
  },
  {
   "cell_type": "code",
   "execution_count": 28,
   "metadata": {},
   "outputs": [],
   "source": [
    "from nltk.stem.porter import PorterStemmer\n",
    "porter = PorterStemmer()\n",
    "def tokenizer_porter(text):\n",
    "    return [porter.stem(word) for word in text.split()]"
   ]
  },
  {
   "cell_type": "code",
   "execution_count": 29,
   "metadata": {},
   "outputs": [],
   "source": [
    "def get_wordnet_pos(tag):\n",
    "    if tag.startswith('J'):\n",
    "        return wordnet.ADJ\n",
    "    elif tag.startswith('V'):\n",
    "        return wordnet.VERB\n",
    "    elif tag.startswith('N'):\n",
    "        return wordnet.NOUN\n",
    "    elif tag.startswith('R'):\n",
    "        return wordnet.ADV\n",
    "    else:\n",
    "        return None\n",
    "    \n",
    "wnl = WordNetLemmatizer()\n",
    "def lemmatizer(text):\n",
    "    tokens = word_tokenize(text)\n",
    "    lemmas = []\n",
    "    tagged = pos_tag(tokens)\n",
    "    for tag in tagged:\n",
    "        wordnet_pos = get_wordnet_pos(tag[1]) or wordnet.NOUN\n",
    "        lemmas.append(wnl.lemmatize(tag[0], pos=wordnet_pos))\n",
    "    return lemmas"
   ]
  },
  {
   "cell_type": "markdown",
   "metadata": {},
   "source": [
    "#### Stop-words"
   ]
  },
  {
   "cell_type": "markdown",
   "metadata": {},
   "source": [
    "I think words which mean negative are important."
   ]
  },
  {
   "cell_type": "code",
   "execution_count": 30,
   "metadata": {},
   "outputs": [
    {
     "name": "stdout",
     "output_type": "stream",
     "text": [
      "[nltk_data] Downloading package stopwords to\n",
      "[nltk_data]     C:\\Users\\jywsi\\AppData\\Roaming\\nltk_data...\n",
      "[nltk_data]   Package stopwords is already up-to-date!\n",
      "[nltk_data] Downloading package punkt to\n",
      "[nltk_data]     C:\\Users\\jywsi\\AppData\\Roaming\\nltk_data...\n",
      "[nltk_data]   Package punkt is already up-to-date!\n",
      "[nltk_data] Downloading package averaged_perceptron_tagger to\n",
      "[nltk_data]     C:\\Users\\jywsi\\AppData\\Roaming\\nltk_data...\n",
      "[nltk_data]   Package averaged_perceptron_tagger is already up-to-\n",
      "[nltk_data]       date!\n"
     ]
    },
    {
     "data": {
      "text/plain": [
       "True"
      ]
     },
     "execution_count": 30,
     "metadata": {},
     "output_type": "execute_result"
    }
   ],
   "source": [
    "import nltk\n",
    "nltk.download('stopwords')\n",
    "nltk.download('punkt')\n",
    "nltk.download('averaged_perceptron_tagger')"
   ]
  },
  {
   "cell_type": "code",
   "execution_count": 31,
   "metadata": {},
   "outputs": [
    {
     "data": {
      "text/plain": [
       "'not'"
      ]
     },
     "execution_count": 31,
     "metadata": {},
     "output_type": "execute_result"
    }
   ],
   "source": [
    "from nltk.corpus import stopwords\n",
    "stop = stopwords.words('english')\n",
    "stop.pop(stop.index('but'))\n",
    "stop.pop(stop.index('not'))\n"
   ]
  },
  {
   "cell_type": "markdown",
   "metadata": {},
   "source": [
    "#### Convert n't to not"
   ]
  },
  {
   "cell_type": "code",
   "execution_count": 32,
   "metadata": {},
   "outputs": [],
   "source": [
    "def no_abbreviation(text):\n",
    "    text = re.sub('n\\'t',' not',text)\n",
    "    return text"
   ]
  },
  {
   "cell_type": "markdown",
   "metadata": {},
   "source": [
    "#### Adversatives"
   ]
  },
  {
   "cell_type": "code",
   "execution_count": 33,
   "metadata": {},
   "outputs": [],
   "source": [
    "but = ['yet','however','nonetheless','whereas','nevertheless']\n",
    "although = ['although','though','notwithstanding','albeit']"
   ]
  },
  {
   "cell_type": "code",
   "execution_count": 34,
   "metadata": {},
   "outputs": [],
   "source": [
    "def change_but(text):\n",
    "    for x in but:\n",
    "        text = re.sub(x,'but',text)\n",
    "    return text\n",
    "def change_although(text):\n",
    "    for x in although:\n",
    "        text = re.sub(x,'although',text)\n",
    "    return text\n",
    "def change_adversatives(text):\n",
    "    text = change_but(text)\n",
    "    text = change_although(text)\n",
    "    return text"
   ]
  },
  {
   "cell_type": "markdown",
   "metadata": {},
   "source": [
    "Now I want to capture the key information near but and although."
   ]
  },
  {
   "cell_type": "markdown",
   "metadata": {},
   "source": [
    "def although_phrase(text):\n",
    "    words = text.split()\n",
    "    for (index,word) in enumerate(words):\n",
    "        if word == 'altough.':\n",
    "            for x in range(index,index-10,-1):\n",
    "                if re.sub('(.*)\\.([a-z])\\..*','\\\\2',str(wordnet.synsets(words[x])[0])) in ['v','adj']"
   ]
  },
  {
   "cell_type": "code",
   "execution_count": null,
   "metadata": {},
   "outputs": [],
   "source": [
    "def preprocessing(text):\n",
    "\n",
    "    emoticons = re.findall('(?::|;|=)(?:-)?(?:\\)|\\(|D|P)',text)\n",
    "\n",
    "    text = re.sub('\\\\n',' ',text)\n",
    "\n",
    "    text = no_abbreviation(text)\n",
    "\n",
    "    text = re.sub('[\\W]+',' ', text.lower())\n",
    "\n",
    "    text = change_adversatives(text)\n",
    "\n",
    "    tokens = lemmatizer(text)\n",
    "    text = ''\n",
    "    for index, token in enumerate(tokens):\n",
    "\n",
    "        #tokens[index] = no_typo(token)\n",
    "        if token in stop:\n",
    "            tokens[index] = ''\n",
    "        else:\n",
    "            text = text + tokens[index] + ' '\n",
    "    return {'text':text,'emoticons':emoticons}"
   ]
  },
  {
   "cell_type": "markdown",
   "metadata": {},
   "source": [
    "#### Extract features through LDA in an exact business_ID"
   ]
  },
  {
   "cell_type": "code",
   "execution_count": 43,
   "metadata": {},
   "outputs": [
    {
     "name": "stdout",
     "output_type": "stream",
     "text": [
      "Counter({20089: 92, 107629: 86, 13423: 85, 130178: 61, 101708: 47, 143487: 44, 107531: 40, 64416: 38, 142318: 37, 153845: 37, 157910: 33, 118365: 33, 80029: 32, 9439: 30, 192547: 30, 88442: 30, 29046: 29, 13172: 28, 51946: 28, 117426: 26, 150946: 25, 91058: 24, 22814: 22, 149506: 22, 135546: 22, 189440: 21, 41635: 21, 39261: 21, 61023: 20, 111872: 20, 161534: 19, 101022: 19, 76506: 18, 91682: 18, 157645: 18, 35411: 18, 24564: 18, 152949: 18, 142312: 18, 34159: 17, 4836: 17, 61192: 17, 108514: 16, 190583: 16, 38349: 16, 108614: 16, 96069: 15, 67995: 15, 100001: 15, 101458: 15, 153478: 15, 157515: 15, 112712: 15, 185769: 15, 103807: 14, 175746: 14, 51953: 14, 139811: 14, 136289: 14, 145384: 13, 162751: 13, 148427: 13, 1611: 13, 108041: 13, 90950: 13, 105184: 13, 87587: 13, 14301: 13, 18125: 12, 161100: 12, 105242: 12, 175829: 12, 137087: 12, 67059: 12, 100044: 12, 71026: 12, 6939: 12, 72322: 12, 114321: 12, 27860: 12, 152196: 12, 142739: 12, 182464: 12, 92895: 12, 86180: 11, 105381: 11, 64073: 11, 5769: 11, 58470: 11, 78686: 11, 171950: 11, 75606: 11, 58933: 11, 89254: 11, 15810: 11, 180622: 11, 155221: 11, 51148: 11, 105221: 11, 69733: 11, 184443: 11, 59340: 11, 132729: 11, 102492: 11, 50173: 10, 14110: 10, 97870: 10, 101726: 10, 33270: 10, 11086: 10, 186965: 10, 84869: 10, 65981: 10, 14081: 10, 47833: 10, 85484: 10, 26464: 10, 15679: 10, 72343: 10, 66338: 10, 65124: 10, 134980: 10, 94118: 10, 29720: 10, 76190: 10, 32703: 10, 171414: 10, 130873: 10, 17944: 10, 150740: 10, 56541: 10, 79013: 10, 184311: 10, 167520: 10, 115941: 10, 114556: 10, 51632: 9, 97837: 9, 53436: 9, 61637: 9, 63046: 9, 188661: 9, 21550: 9, 17760: 9, 1761: 9, 123302: 9, 22086: 9, 165653: 9, 146636: 9, 82879: 9, 192544: 9, 115866: 9, 117205: 9, 10836: 9, 162637: 9, 188648: 9, 165714: 9, 141742: 9, 15992: 9, 36425: 9, 180005: 9, 139736: 9, 154430: 9, 10122: 9, 133233: 8, 68935: 8, 98420: 8, 170871: 8, 36216: 8, 130395: 8, 159540: 8, 52598: 8, 4096: 8, 117962: 8, 86073: 8, 97653: 8, 115223: 8, 72222: 8, 20067: 8, 83718: 8, 97364: 8, 77679: 8, 1514: 8, 3573: 8, 93209: 8, 99980: 8, 161678: 8, 120212: 8, 132429: 8, 88767: 8, 112359: 8, 50997: 8, 173947: 8, 82871: 8, 37529: 8, 190150: 8, 185360: 8, 125478: 7, 180402: 7, 121816: 7, 37740: 7, 144230: 7, 23314: 7, 151753: 7, 31721: 7, 112722: 7, 171171: 7, 31811: 7, 28582: 7, 58219: 7, 2370: 7, 184894: 7, 93616: 7, 8820: 7, 80781: 7, 91415: 7, 111668: 7, 83138: 7, 151709: 7, 56908: 7, 179430: 7, 153176: 7, 75324: 7, 28945: 7, 121641: 7, 45893: 7, 184313: 7, 139642: 7, 110161: 7, 132800: 7, 171938: 7, 22093: 7, 161487: 7, 34375: 7, 186070: 7, 180555: 7, 127140: 7, 115983: 7, 31292: 6, 33094: 6, 93217: 6, 47108: 6, 102517: 6, 103809: 6, 151424: 6, 152307: 6, 115148: 6, 136306: 6, 50855: 6, 158801: 6, 61274: 6, 82446: 6, 187833: 6, 82006: 6, 171229: 6, 989: 6, 69267: 6, 145490: 6, 51284: 6, 125214: 6, 111149: 6, 137030: 6, 26665: 6, 131330: 6, 20037: 6, 141848: 6, 168553: 6, 19080: 6, 114977: 6, 145558: 6, 42063: 6, 54416: 6, 73070: 6, 6007: 6, 151714: 6, 124098: 6, 29212: 6, 100815: 6, 151175: 6, 148808: 6, 136065: 6, 6001: 6, 92942: 6, 58569: 6, 145260: 6, 83049: 6, 178428: 6, 38137: 6, 46019: 6, 119215: 6, 121146: 6, 33121: 6, 81227: 6, 91391: 6, 70777: 6, 167407: 6, 106447: 6, 131127: 6, 83555: 6, 165532: 6, 131768: 6, 140156: 6, 75366: 6, 52889: 6, 189181: 6, 140259: 6, 44530: 6, 68403: 6, 15252: 6, 188879: 6, 6427: 6, 48875: 6, 40709: 6, 96440: 6, 45216: 6, 139740: 6, 85590: 6, 134086: 6, 159705: 6, 182261: 6, 74962: 6, 41577: 6, 151241: 6, 175469: 6, 117901: 6, 93421: 6, 133142: 6, 132849: 6, 74102: 6, 13187: 6, 69117: 6, 106019: 6, 134195: 6, 120418: 6, 129138: 6, 112310: 5, 88584: 5, 54465: 5, 46306: 5, 60466: 5, 75957: 5, 45221: 5, 35172: 5, 721: 5, 56894: 5, 3523: 5, 93309: 5, 113679: 5, 67114: 5, 27650: 5, 131413: 5, 111178: 5, 170229: 5, 63869: 5, 136576: 5, 123081: 5, 176684: 5, 15088: 5, 131198: 5, 82646: 5, 55017: 5, 48240: 5, 137193: 5, 21040: 5, 103149: 5, 96140: 5, 24497: 5, 26483: 5, 19062: 5, 113767: 5, 11874: 5, 85010: 5, 30974: 5, 121582: 5, 172488: 5, 181159: 5, 145917: 5, 105893: 5, 112963: 5, 191527: 5, 171646: 5, 22223: 5, 67070: 5, 65268: 5, 7442: 5, 119371: 5, 134402: 5, 175965: 5, 157078: 5, 143088: 5, 103129: 5, 95851: 5, 166497: 5, 156457: 5, 61454: 5, 88871: 5, 83623: 5, 168489: 5, 25023: 5, 60719: 5, 56506: 5, 52690: 5, 189092: 5, 155012: 5, 47365: 5, 191965: 5, 114280: 5, 89872: 5, 50941: 5, 96930: 5, 188306: 5, 121748: 5, 11569: 5, 46282: 5, 158881: 5, 122144: 5, 33790: 5, 120506: 5, 8022: 5, 102747: 5, 29621: 5, 545: 5, 81929: 5, 55251: 5, 168804: 5, 180665: 5, 128660: 5, 12722: 4, 185188: 4, 81486: 4, 85734: 4, 29601: 4, 171197: 4, 153901: 4, 41217: 4, 191997: 4, 124258: 4, 92994: 4, 58745: 4, 189298: 4, 88396: 4, 43608: 4, 35530: 4, 148149: 4, 138346: 4, 158115: 4, 66471: 4, 28765: 4, 13499: 4, 13967: 4, 185512: 4, 80696: 4, 57641: 4, 19078: 4, 144289: 4, 61419: 4, 24909: 4, 168126: 4, 48528: 4, 183604: 4, 41162: 4, 191653: 4, 43335: 4, 28773: 4, 29120: 4, 139622: 4, 73092: 4, 8188: 4, 73521: 4, 70753: 4, 166485: 4, 148216: 4, 54770: 4, 152859: 4, 156197: 4, 89734: 4, 146524: 4, 188533: 4, 118410: 4, 171449: 4, 157287: 4, 85853: 4, 159460: 4, 61865: 4, 29473: 4, 157351: 4, 96117: 4, 144779: 4, 115989: 4, 155758: 4, 102154: 4, 50948: 4, 119711: 4, 102342: 4, 101884: 4, 30301: 4, 178254: 4, 149921: 4, 63305: 4, 96542: 4, 47224: 4, 123783: 4, 11221: 4, 188327: 4, 176734: 4, 112681: 4, 45980: 4, 50693: 4, 52230: 4, 47613: 4, 188496: 4, 88080: 4, 177875: 4, 121922: 4, 51567: 4, 152514: 4, 16294: 4, 120128: 4, 9262: 4, 84127: 4, 153180: 4, 142982: 4, 62940: 4, 63834: 4, 176105: 4, 183577: 4, 72350: 4, 120972: 4, 119443: 4, 171482: 4, 188129: 4, 175460: 4, 38978: 4, 109434: 4, 158006: 4, 59514: 4, 67778: 4, 53541: 4, 102449: 4, 120832: 4, 126827: 4, 3465: 4, 59557: 4, 57261: 4, 159250: 4, 20473: 4, 132752: 4, 87936: 4, 161974: 4, 21707: 4, 24475: 4, 69647: 4, 154765: 4, 126154: 4, 89649: 4, 21893: 4, 46190: 4, 1037: 4, 52464: 4, 64184: 4, 76649: 4, 72504: 4, 98867: 4, 98234: 4, 28474: 4, 79690: 4, 16264: 4, 10381: 4, 23400: 4, 33948: 4, 57083: 4, 62074: 4, 1584: 4, 126916: 4, 55349: 4, 12471: 4, 157273: 4, 135298: 4, 84797: 4, 66199: 4, 133771: 4, 173401: 4, 114506: 4, 107749: 4, 190975: 4, 93316: 4, 142633: 4, 88503: 4, 153036: 4, 140723: 4, 138510: 4, 188502: 4, 41608: 4, 151157: 4, 168102: 4, 39091: 4, 52413: 4, 113978: 4, 96586: 4, 187227: 4, 57590: 4, 15858: 4, 187969: 4, 95424: 4, 89948: 4, 28671: 4, 184862: 4, 130287: 4, 137790: 4, 20588: 4, 48793: 4, 94096: 4, 182082: 4, 40775: 3, 110449: 3, 41738: 3, 25141: 3, 179410: 3, 156764: 3, 103432: 3, 113766: 3, 105477: 3, 37321: 3, 18755: 3, 122168: 3, 82466: 3, 73000: 3, 72738: 3, 56435: 3, 14682: 3, 65608: 3, 168484: 3, 42633: 3, 22649: 3, 2491: 3, 138298: 3, 82855: 3, 52249: 3, 39914: 3, 63558: 3, 131949: 3, 104374: 3, 80760: 3, 123728: 3, 127119: 3, 10006: 3, 30879: 3, 166254: 3, 77009: 3, 86056: 3, 111982: 3, 146191: 3, 36504: 3, 177646: 3, 124297: 3, 26258: 3, 49438: 3, 159423: 3, 116036: 3, 142486: 3, 52456: 3, 60071: 3, 146888: 3, 76609: 3, 127680: 3, 30500: 3, 50049: 3, 66452: 3, 11651: 3, 133498: 3, 66421: 3, 46525: 3, 87277: 3, 35740: 3, 89354: 3, 181061: 3, 2161: 3, 176199: 3, 84510: 3, 51539: 3, 177308: 3, 98809: 3, 46207: 3, 170774: 3, 32809: 3, 105314: 3, 167364: 3, 108483: 3, 27008: 3, 117699: 3, 129872: 3, 28409: 3, 134985: 3, 40263: 3, 180641: 3, 188561: 3, 130461: 3, 130181: 3, 65444: 3, 6177: 3, 110540: 3, 124083: 3, 110592: 3, 132439: 3, 104664: 3, 23763: 3, 100565: 3, 13366: 3, 156651: 3, 81747: 3, 158191: 3, 5289: 3, 39066: 3, 145985: 3, 3596: 3, 135946: 3, 90838: 3, 56109: 3, 28785: 3, 17031: 3, 157259: 3, 43014: 3, 28091: 3, 90392: 3, 140490: 3, 181469: 3, 33715: 3, 112821: 3, 118914: 3, 90316: 3, 129995: 3, 99219: 3, 145149: 3, 76474: 3, 117798: 3, 39941: 3, 163435: 3, 67212: 3, 2207: 3, 14606: 3, 87452: 3, 106754: 3, 180559: 3, 50512: 3, 59966: 3, 118041: 3, 86504: 3, 14885: 3, 124853: 3, 58991: 3, 187173: 3, 54851: 3, 10558: 3, 155666: 3, 15275: 3, 85006: 3, 78260: 3, 62072: 3, 59737: 3, 43776: 3, 5782: 3, 62717: 3, 42725: 3, 179967: 3, 35367: 3, 49872: 3, 98396: 3, 142715: 3, 112451: 3, 130760: 3, 83170: 3, 40616: 3, 55428: 3, 63384: 3, 169738: 3, 97671: 3, 98674: 3, 130843: 3, 112870: 3, 137613: 3, 12669: 3, 15218: 3, 143086: 3, 64716: 3, 126815: 3, 183526: 3, 183012: 3, 50426: 3, 124426: 3, 102231: 3, 116471: 3, 21781: 3, 78651: 3, 133969: 3, 4224: 3, 22276: 3, 160241: 3, 154572: 3, 1868: 3, 19120: 3, 67712: 3, 64353: 3, 109509: 3, 7475: 3, 140049: 3, 125889: 3, 191581: 3, 29538: 3, 158249: 3, 64927: 3, 79717: 3, 26350: 3, 156529: 3, 176: 3, 101521: 3, 116883: 3, 93415: 3, 31012: 3, 142811: 3, 186734: 3, 130821: 3, 147832: 3, 70761: 3, 90260: 3, 353: 3, 80068: 3, 143790: 3, 41536: 3, 23489: 3, 106585: 3, 12174: 3, 184333: 3, 37806: 3, 96446: 3, 188241: 3, 145387: 3, 33656: 3, 30214: 3, 108137: 3, 139616: 3, 153977: 3, 176910: 3, 141711: 3, 120567: 3, 43256: 3, 67331: 3, 155171: 3, 49924: 3, 64656: 3, 94603: 3, 30528: 3, 136153: 3, 94930: 3, 101945: 3, 167075: 3, 175390: 3, 115247: 3, 163624: 3, 157001: 3, 113402: 3, 101755: 3, 82979: 3, 60636: 3, 124026: 3, 110861: 3, 81714: 3, 33529: 3, 187439: 3, 21282: 3, 8608: 3, 90436: 3, 44747: 3, 66262: 3, 9213: 3, 119661: 3, 129329: 3, 66850: 3, 151557: 3, 25529: 3, 46876: 3, 169671: 3, 189427: 3, 55147: 3, 97797: 3, 48133: 3, 50227: 3, 28932: 3, 178270: 3, 34265: 3, 186690: 3, 46416: 3, 129935: 3, 129991: 3, 185132: 3, 157257: 3, 86399: 3, 18394: 3, 110819: 3, 176526: 3, 12684: 3, 40231: 3, 2397: 3, 131143: 3, 129232: 3, 103573: 3, 90641: 3, 26472: 3, 83945: 3, 183647: 3, 44978: 3, 94064: 3, 17865: 3, 176731: 3, 83287: 3, 76163: 3, 69783: 3, 169083: 3, 42612: 3, 187360: 3, 172593: 3, 3583: 3, 29028: 3, 163579: 3, 80562: 3, 187583: 3, 179358: 3, 122207: 3, 31277: 3, 126177: 3, 25812: 3, 116038: 3, 24768: 3, 167046: 3, 32951: 3, 66529: 3, 35344: 2, 152538: 2, 176386: 2, 139555: 2, 116739: 2, 176384: 2, 156644: 2, 91350: 2, 24675: 2, 154175: 2, 162053: 2, 69773: 2, 117028: 2, 135212: 2, 72563: 2, 88804: 2, 28619: 2, 40180: 2, 15494: 2, 153306: 2, 46557: 2, 192265: 2, 27196: 2, 162410: 2, 71906: 2, 143668: 2, 192579: 2, 25358: 2, 54372: 2, 150025: 2, 153622: 2, 168614: 2, 175247: 2, 186848: 2, 116953: 2, 170000: 2, 18731: 2, 8562: 2, 168558: 2, 56909: 2, 67211: 2, 47329: 2, 170589: 2, 83606: 2, 75298: 2, 24510: 2, 184798: 2, 15650: 2, 29847: 2, 83131: 2, 89689: 2, 18120: 2, 61748: 2, 98047: 2, 159126: 2, 19919: 2, 107855: 2, 28893: 2, 79823: 2, 157652: 2, 167830: 2, 50808: 2, 142029: 2, 187498: 2, 119489: 2, 153052: 2, 60534: 2, 145791: 2, 33200: 2, 190175: 2, 67779: 2, 103716: 2, 134939: 2, 5312: 2, 127953: 2, 69637: 2, 27250: 2, 138175: 2, 164561: 2, 40010: 2, 24447: 2, 18267: 2, 88814: 2, 187126: 2, 124808: 2, 62501: 2, 69881: 2, 183922: 2, 176877: 2, 97686: 2, 99364: 2, 4355: 2, 172554: 2, 94961: 2, 99230: 2, 8536: 2, 2715: 2, 84780: 2, 125786: 2, 147319: 2, 23262: 2, 146210: 2, 28110: 2, 18021: 2, 59017: 2, 84495: 2, 77624: 2, 76828: 2, 43879: 2, 110387: 2, 83476: 2, 172560: 2, 148073: 2, 182880: 2, 118314: 2, 35423: 2, 94877: 2, 105233: 2, 157677: 2, 157908: 2, 109059: 2, 117548: 2, 90185: 2, 118475: 2, 178332: 2, 96427: 2, 146746: 2, 69537: 2, 32035: 2, 45794: 2, 57285: 2, 37431: 2, 93186: 2, 130924: 2, 34928: 2, 27651: 2, 170095: 2, 26428: 2, 115616: 2, 175001: 2, 61570: 2, 21625: 2, 166107: 2, 45550: 2, 141591: 2, 46488: 2, 96506: 2, 62046: 2, 137065: 2, 42332: 2, 68683: 2, 108241: 2, 5973: 2, 124091: 2, 12585: 2, 122433: 2, 162672: 2, 160176: 2, 36982: 2, 13848: 2, 53751: 2, 144809: 2, 111853: 2, 1797: 2, 173843: 2, 18318: 2, 154528: 2, 111741: 2, 41801: 2, 384: 2, 27909: 2, 3547: 2, 190128: 2, 133412: 2, 16059: 2, 12601: 2, 190582: 2, 152542: 2, 93975: 2, 14465: 2, 151469: 2, 93921: 2, 181208: 2, 128525: 2, 139767: 2, 142100: 2, 124182: 2, 1824: 2, 68431: 2, 97523: 2, 104229: 2, 88213: 2, 26865: 2, 118132: 2, 52235: 2, 78967: 2, 168789: 2, 35546: 2, 771: 2, 47726: 2, 150667: 2, 169184: 2, 187629: 2, 145812: 2, 179885: 2, 70891: 2, 34473: 2, 97168: 2, 148343: 2, 118968: 2, 61372: 2, 15323: 2, 93176: 2, 190630: 2, 23732: 2, 60627: 2, 119961: 2, 140230: 2, 140089: 2, 37664: 2, 171319: 2, 65430: 2, 182467: 2, 53617: 2, 5120: 2, 17161: 2, 50233: 2, 175496: 2, 154987: 2, 66296: 2, 41078: 2, 42544: 2, 89824: 2, 26770: 2, 123841: 2, 113083: 2, 37567: 2, 188331: 2, 33796: 2, 40034: 2, 7599: 2, 95393: 2, 68612: 2, 49599: 2, 127243: 2, 182890: 2, 114005: 2, 43242: 2, 134279: 2, 97761: 2, 17005: 2, 30956: 2, 84992: 2, 69817: 2, 106461: 2, 106975: 2, 3831: 2, 31696: 2, 83294: 2, 32212: 2, 107970: 2, 42350: 2, 154120: 2, 79613: 2, 46284: 2, 73050: 2, 137033: 2, 122228: 2, 25385: 2, 32836: 2, 25570: 2, 183456: 2, 150179: 2, 108264: 2, 52570: 2, 15287: 2, 105808: 2, 40488: 2, 43443: 2, 189435: 2, 12287: 2, 45399: 2, 129167: 2, 192586: 2, 2812: 2, 61296: 2, 119937: 2, 187: 2, 190158: 2, 100223: 2, 140155: 2, 190879: 2, 37416: 2, 184021: 2, 103022: 2, 180704: 2, 1164: 2, 10129: 2, 137207: 2, 60152: 2, 123965: 2, 16272: 2, 14186: 2, 2667: 2, 557: 2, 18507: 2, 177073: 2, 89482: 2, 166789: 2, 87873: 2, 74832: 2, 31357: 2, 32959: 2, 85936: 2, 86768: 2, 101384: 2, 67894: 2, 153293: 2, 158352: 2, 50476: 2, 113273: 2, 5013: 2, 61554: 2, 107090: 2, 80520: 2, 119637: 2, 130147: 2, 23546: 2, 109199: 2, 142664: 2, 25704: 2, 129570: 2, 10513: 2, 94153: 2, 123738: 2, 113429: 2, 105765: 2, 10688: 2, 56127: 2, 90881: 2, 153713: 2, 145055: 2, 153550: 2, 139368: 2, 175764: 2, 104215: 2, 117578: 2, 160796: 2, 103700: 2, 64953: 2, 190825: 2, 38581: 2, 108517: 2, 7801: 2, 142703: 2, 80518: 2, 79043: 2, 127935: 2, 43076: 2, 24302: 2, 38493: 2, 46707: 2, 118136: 2, 36423: 2, 51331: 2, 128873: 2, 142707: 2, 139457: 2, 19533: 2, 127780: 2, 22746: 2, 58612: 2, 17103: 2, 117986: 2, 67749: 2, 79002: 2, 49903: 2, 44812: 2, 138633: 2, 80107: 2, 112270: 2, 20091: 2, 135464: 2, 52272: 2, 69296: 2, 180035: 2, 43970: 2, 34003: 2, 123950: 2, 138689: 2, 83848: 2, 79466: 2, 40137: 2, 142562: 2, 174172: 2, 180943: 2, 77166: 2, 14424: 2, 111352: 2, 190980: 2, 164438: 2, 112602: 2, 38816: 2, 157644: 2, 54641: 2, 75724: 2, 145032: 2, 92223: 2, 155260: 2, 26109: 2, 110258: 2, 27949: 2, 26348: 2, 128401: 2, 19768: 2, 14047: 2, 145498: 2, 125434: 2, 48978: 2, 74322: 2, 14280: 2, 68160: 2, 68826: 2, 155892: 2, 47293: 2, 158519: 2, 177296: 2, 24872: 2, 9227: 2, 63713: 2, 72240: 2, 33093: 2, 140860: 2, 136011: 2, 144372: 2, 164348: 2, 142393: 2, 143456: 2, 31761: 2, 26988: 2, 115232: 2, 154405: 2, 131268: 2, 167068: 2, 187010: 2, 8981: 2, 179122: 2, 4121: 2, 174693: 2, 85791: 2, 44539: 2, 69077: 2, 40576: 2, 105641: 2, 65384: 2, 140572: 2, 119268: 2, 101616: 2, 61249: 2, 79212: 2, 173654: 2, 13705: 2, 95426: 2, 59985: 2, 163981: 2, 37061: 2, 99232: 2, 156567: 2, 130420: 2, 92072: 2, 166531: 2, 106947: 2, 100778: 2, 120776: 2, 61388: 2, 72511: 2, 121469: 2, 16946: 2, 99387: 2, 56357: 2, 19100: 2, 52704: 2, 70990: 2, 151954: 2, 109984: 2, 3835: 2, 116379: 2, 156980: 2, 61118: 2, 351: 2, 17534: 2, 188906: 2, 153768: 2, 101868: 2, 59696: 2, 152654: 2, 7749: 2, 124649: 2, 4777: 2, 50396: 2, 118536: 2, 31547: 2, 78827: 2, 126343: 2, 15282: 2, 33185: 2, 147025: 2, 52402: 2, 173016: 2, 120443: 2, 57768: 2, 25815: 2, 129055: 2, 58868: 2, 162728: 2, 82170: 2, 11893: 2, 76713: 2, 9966: 2, 52681: 2, 60126: 2, 76952: 2, 138190: 2, 151546: 2, 144715: 2, 90415: 2, 152773: 2, 29974: 2, 78392: 2, 49825: 2, 98359: 2, 44216: 2, 123069: 2, 149398: 2, 154612: 2, 112347: 2, 105758: 2, 38728: 2, 97354: 2, 125666: 2, 106107: 2, 107988: 2, 84862: 2, 159440: 2, 136148: 2, 117246: 2, 137755: 2, 130309: 2, 75684: 2, 179924: 2, 98906: 2, 49006: 2, 119944: 2, 131775: 2, 33945: 2, 175910: 2, 92058: 2, 12357: 2, 143396: 2, 67974: 2, 140024: 2, 83428: 2, 164077: 2, 125134: 2, 87398: 2, 99849: 2, 164351: 2, 9746: 2, 63504: 2, 146781: 2, 80715: 2, 136787: 2, 181168: 2, 153754: 2, 30562: 2, 70922: 2, 134144: 2, 164006: 2, 116578: 2, 50141: 2, 23416: 2, 76924: 2, 114579: 2, 78276: 2, 157734: 2, 100372: 2, 94247: 2, 25918: 2, 54415: 2, 4507: 2, 134731: 2, 68725: 2, 159995: 2, 35635: 2, 43595: 2, 33127: 2, 84475: 2, 121302: 2, 144551: 2, 9226: 2, 152980: 2, 7207: 2, 119107: 2, 190929: 2, 120768: 2, 127564: 2, 84275: 2, 51392: 2, 158102: 2, 91461: 2, 10884: 2, 80451: 2, 103346: 2, 20265: 2, 84328: 2, 27319: 2, 135865: 2, 45695: 2, 34278: 2, 100535: 2, 175302: 2, 130839: 2, 115509: 2, 734: 2, 85539: 2, 64422: 2, 68592: 2, 40118: 2, 62575: 2, 13050: 2, 139490: 2, 42229: 2, 17189: 2, 90711: 2, 120042: 2, 173132: 2, 161990: 2, 20527: 2, 131533: 2, 60246: 2, 142627: 2, 61410: 2, 36856: 2, 76974: 2, 94829: 2, 148378: 2, 120097: 2, 54428: 2, 101532: 2, 15765: 2, 71354: 2, 67489: 2, 149129: 2, 160929: 2, 31263: 2, 40826: 2, 52022: 2, 69691: 2, 47826: 2, 79919: 2, 74043: 2, 176525: 2, 84262: 2, 140591: 2, 106005: 2, 34297: 2, 37262: 2, 84588: 2, 102822: 2, 105482: 2, 126193: 2, 142911: 2, 103612: 2, 66961: 2, 39126: 2, 29680: 2, 13164: 2, 161186: 2, 154146: 2, 35599: 2, 138843: 2, 95947: 2, 88114: 2, 51328: 2, 141028: 2, 188035: 2, 15367: 2, 109679: 2, 100301: 2, 144213: 2, 67981: 2, 7462: 2, 170951: 2, 79549: 2, 10508: 2, 80063: 2, 90843: 2, 95164: 2, 23463: 2, 181141: 2, 180722: 2, 42099: 2, 10725: 2, 106709: 2, 19798: 2, 114728: 2, 70580: 2, 15364: 2, 180500: 2, 171844: 2, 94395: 2, 116062: 2, 159121: 2, 119515: 2, 141101: 2, 121258: 2, 10952: 2, 144602: 2, 31888: 2, 59076: 2, 9325: 2, 161499: 2, 48859: 2, 35760: 2, 188213: 2, 42400: 2, 178196: 2, 44923: 2, 134984: 2, 148123: 2, 13440: 2, 68986: 2, 52203: 2, 120154: 2, 8839: 2, 39742: 2, 82318: 2, 9387: 2, 121102: 2, 115826: 2, 114053: 2, 159385: 2, 54313: 2, 154220: 2, 151395: 2, 85158: 2, 7338: 2, 60751: 2, 76515: 2, 88953: 2, 42224: 2, 62655: 2, 82187: 2, 192342: 2, 39432: 2, 131033: 2, 24597: 2, 53529: 2, 153372: 2, 71871: 1, 64913: 1, 10013: 1, 33304: 1, 173372: 1, 166260: 1, 83068: 1, 184121: 1, 82670: 1, 8: 1, 192192: 1, 148744: 1, 172829: 1, 95873: 1, 147540: 1, 100262: 1, 178817: 1, 118938: 1, 188470: 1, 50092: 1, 110121: 1, 166888: 1, 76517: 1, 11253: 1, 109421: 1, 35292: 1, 43958: 1, 72103: 1, 61216: 1, 191881: 1, 58685: 1, 63518: 1, 154193: 1, 147134: 1, 101584: 1, 67938: 1, 65997: 1, 62572: 1, 87174: 1, 13376: 1, 7693: 1, 125920: 1, 177055: 1, 92387: 1, 106841: 1, 190220: 1, 89098: 1, 375: 1, 106616: 1, 151634: 1, 141567: 1, 179730: 1, 181507: 1, 8623: 1, 31940: 1, 128491: 1, 159677: 1, 62237: 1, 94936: 1, 119782: 1, 119185: 1, 9163: 1, 37716: 1, 170980: 1, 16682: 1, 102617: 1, 57675: 1, 188178: 1, 158883: 1, 45624: 1, 25401: 1, 179844: 1, 124380: 1, 152743: 1, 93482: 1, 72734: 1, 26294: 1, 179242: 1, 7754: 1, 183425: 1, 80293: 1, 159472: 1, 123160: 1, 37063: 1, 101596: 1, 143409: 1, 50897: 1, 158077: 1, 23336: 1, 36615: 1, 74876: 1, 9561: 1, 109950: 1, 6402: 1, 101233: 1, 191375: 1, 86673: 1, 161817: 1, 102201: 1, 87154: 1, 139610: 1, 188630: 1, 91868: 1, 115728: 1, 182005: 1, 43804: 1, 23068: 1, 14341: 1, 51689: 1, 171351: 1, 162605: 1, 109351: 1, 10185: 1, 117720: 1, 54486: 1, 62015: 1, 24272: 1, 8890: 1, 73986: 1, 4680: 1, 139002: 1, 123054: 1, 103597: 1, 154127: 1, 149860: 1, 161929: 1, 152070: 1, 51729: 1, 45612: 1, 98241: 1, 79928: 1, 163723: 1, 19508: 1, 117934: 1, 47821: 1, 123651: 1, 47555: 1, 59330: 1, 146135: 1, 177530: 1, 7355: 1, 2867: 1, 71989: 1, 103992: 1, 115384: 1, 144485: 1, 61616: 1, 181757: 1, 39954: 1, 124843: 1, 5267: 1, 34904: 1, 131435: 1, 80687: 1, 130916: 1, 92270: 1, 182629: 1, 98343: 1, 124781: 1, 165961: 1, 84330: 1, 85327: 1, 45188: 1, 163072: 1, 184023: 1, 149400: 1, 49981: 1, 161408: 1, 1690: 1, 29567: 1, 184213: 1, 93158: 1, 117928: 1, 166437: 1, 69807: 1, 165265: 1, 85948: 1, 98298: 1, 107407: 1, 53689: 1, 143422: 1, 53418: 1, 69171: 1, 82250: 1, 96342: 1, 149821: 1, 118766: 1, 34361: 1, 152674: 1, 125146: 1, 94121: 1, 91493: 1, 117906: 1, 45255: 1, 103050: 1, 55836: 1, 44769: 1, 147789: 1, 155964: 1, 59944: 1, 185800: 1, 39993: 1, 153281: 1, 135308: 1, 47323: 1, 24759: 1, 51630: 1, 26783: 1, 122219: 1, 124210: 1, 100303: 1, 144487: 1, 94393: 1, 60385: 1, 126667: 1, 119465: 1, 35523: 1, 61911: 1, 20374: 1, 27146: 1, 19061: 1, 60210: 1, 158609: 1, 98467: 1, 168733: 1, 117439: 1, 104417: 1, 53385: 1, 188354: 1, 47782: 1, 10460: 1, 151835: 1, 64249: 1, 144397: 1, 136840: 1, 101377: 1, 166073: 1, 71261: 1, 84608: 1, 139752: 1, 15029: 1, 104180: 1, 128962: 1, 12715: 1, 78308: 1, 35026: 1, 122266: 1, 29841: 1, 177363: 1, 157766: 1, 50641: 1, 186866: 1, 4434: 1, 180768: 1, 92668: 1, 30479: 1, 101936: 1, 77387: 1, 76234: 1, 86123: 1, 9877: 1, 32770: 1, 50251: 1, 96368: 1, 10246: 1, 122683: 1, 18005: 1, 49333: 1, 158694: 1, 191037: 1, 67441: 1, 173167: 1, 115994: 1, 53934: 1, 189191: 1, 27881: 1, 77290: 1, 4623: 1, 76746: 1, 3185: 1, 189394: 1, 61726: 1, 138738: 1, 156394: 1, 139141: 1, 80750: 1, 154117: 1, 129914: 1, 64585: 1, 109600: 1, 44165: 1, 125425: 1, 141671: 1, 27056: 1, 160787: 1, 190183: 1, 21132: 1, 191051: 1, 167831: 1, 116926: 1, 33912: 1, 120605: 1, 137570: 1, 35366: 1, 65945: 1, 158463: 1, 40522: 1, 81339: 1, 77014: 1, 103913: 1, 104148: 1, 73973: 1, 84380: 1, 191249: 1, 97607: 1, 154719: 1, 79318: 1, 166965: 1, 141521: 1, 106628: 1, 77168: 1, 73676: 1, 14534: 1, 62852: 1, 171487: 1, 391: 1, 187746: 1, 26035: 1, 36765: 1, 53341: 1, 167074: 1, 6523: 1, 64903: 1, 157054: 1, 176153: 1, 97571: 1, 4558: 1, 128853: 1, 134842: 1, 183175: 1, 157663: 1, 67724: 1, 169172: 1, 109635: 1, 49499: 1, 145930: 1, 67473: 1, 17245: 1, 89685: 1, 127346: 1, 69863: 1, 39189: 1, 105744: 1, 88281: 1, 14426: 1, 36044: 1, 121321: 1, 41454: 1, 156583: 1, 107706: 1, 39822: 1, 75515: 1, 55043: 1, 127649: 1, 118836: 1, 137355: 1, 94908: 1, 17184: 1, 56489: 1, 83826: 1, 172002: 1, 23348: 1, 5728: 1, 119424: 1, 91067: 1, 36270: 1, 71937: 1, 94586: 1, 123636: 1, 141209: 1, 164286: 1, 18732: 1, 18456: 1, 176056: 1, 134215: 1, 161225: 1, 6994: 1, 189916: 1, 132950: 1, 57998: 1, 11646: 1, 106055: 1, 119874: 1, 170974: 1, 48140: 1, 158610: 1, 103191: 1, 7567: 1, 126065: 1, 32911: 1, 176890: 1, 164408: 1, 142674: 1, 37613: 1, 53237: 1, 13548: 1, 54837: 1, 161807: 1, 57376: 1, 64912: 1, 135517: 1, 137499: 1, 27819: 1, 87237: 1, 97123: 1, 149332: 1, 5564: 1, 174055: 1, 117763: 1, 74699: 1, 43319: 1, 160168: 1, 47510: 1, 183181: 1, 149501: 1, 61008: 1, 108749: 1, 145967: 1, 48374: 1, 93326: 1, 105502: 1, 66109: 1, 126428: 1, 70448: 1, 55928: 1, 24906: 1, 104718: 1, 134351: 1, 129250: 1, 134075: 1, 191085: 1, 3234: 1, 109893: 1, 108018: 1, 1559: 1, 159833: 1, 116603: 1, 41358: 1, 99897: 1, 11682: 1, 167825: 1, 32333: 1, 20653: 1, 57689: 1, 14358: 1, 138335: 1, 154000: 1, 166883: 1, 35706: 1, 6897: 1, 166964: 1, 174285: 1, 84719: 1, 130433: 1, 158436: 1, 41592: 1, 7456: 1, 136237: 1, 128299: 1, 173916: 1, 188736: 1, 112989: 1, 71028: 1, 126949: 1, 48960: 1, 179111: 1, 30007: 1, 80030: 1, 29439: 1, 23064: 1, 85536: 1, 56201: 1, 32071: 1, 24092: 1, 172945: 1, 35337: 1, 165690: 1, 10136: 1, 41691: 1, 114929: 1, 86876: 1, 38459: 1, 21776: 1, 77666: 1, 104937: 1, 1522: 1, 188855: 1, 90486: 1, 143011: 1, 69069: 1, 183868: 1, 13907: 1, 183659: 1, 86221: 1, 27347: 1, 148055: 1, 45442: 1, 51227: 1, 10881: 1, 84686: 1, 140476: 1, 111198: 1, 93698: 1, 85112: 1, 156012: 1, 26961: 1, 98525: 1, 192521: 1, 28441: 1, 70577: 1, 170924: 1, 3157: 1, 81592: 1, 118888: 1, 23517: 1, 148714: 1, 7459: 1, 29746: 1, 47026: 1, 64584: 1, 42198: 1, 3361: 1, 172960: 1, 132709: 1, 160708: 1, 142440: 1, 175471: 1, 48320: 1, 26456: 1, 107569: 1, 20681: 1, 189668: 1, 184317: 1, 6911: 1, 121149: 1, 17430: 1, 36445: 1, 17255: 1, 20557: 1, 86298: 1, 44504: 1, 115212: 1, 83130: 1, 27795: 1, 50570: 1, 58835: 1, 140157: 1, 70787: 1, 8884: 1, 61009: 1, 145866: 1, 156066: 1, 56876: 1, 83350: 1, 118853: 1, 19834: 1, 186101: 1, 128259: 1, 161933: 1, 87667: 1, 171232: 1, 110347: 1, 152373: 1, 32608: 1, 103144: 1, 18191: 1, 25666: 1, 142306: 1, 134596: 1, 108534: 1, 30691: 1, 58881: 1, 17311: 1, 68187: 1, 130606: 1, 81321: 1, 18295: 1, 9957: 1, 89274: 1, 113448: 1, 97389: 1, 176435: 1, 164811: 1, 29388: 1, 180835: 1, 98755: 1, 86448: 1, 170608: 1, 110057: 1, 172311: 1, 92304: 1, 155274: 1, 35360: 1, 80859: 1, 49452: 1, 114104: 1, 101449: 1, 187287: 1, 119252: 1, 113185: 1, 3633: 1, 191350: 1, 27257: 1, 132195: 1, 171508: 1, 4631: 1, 72134: 1, 60139: 1, 74277: 1, 38004: 1, 113739: 1, 165722: 1, 163154: 1, 179251: 1, 47465: 1, 18289: 1, 51948: 1, 190607: 1, 43642: 1, 128066: 1, 55201: 1, 68499: 1, 77050: 1, 61791: 1, 156972: 1, 10523: 1, 120649: 1, 118126: 1, 155067: 1, 181327: 1, 89796: 1, 11991: 1, 163564: 1, 81915: 1, 18183: 1, 150001: 1, 100039: 1, 143503: 1, 65258: 1, 76874: 1, 181124: 1, 140972: 1, 139743: 1, 36324: 1, 6299: 1, 54696: 1, 61438: 1, 19793: 1, 51855: 1, 167003: 1, 71804: 1, 60252: 1, 182522: 1, 113632: 1, 130848: 1, 74762: 1, 74356: 1, 120997: 1, 104170: 1, 68890: 1, 43914: 1, 132082: 1, 21938: 1, 128522: 1, 67193: 1, 42610: 1, 174814: 1, 37357: 1, 73451: 1, 162832: 1, 157574: 1, 40604: 1, 178715: 1, 125305: 1, 59000: 1, 3956: 1, 76839: 1, 120067: 1, 15150: 1, 121752: 1, 144110: 1, 186194: 1, 148609: 1, 56104: 1, 37799: 1, 94552: 1, 117608: 1, 164246: 1, 33673: 1, 58880: 1, 164659: 1, 158434: 1, 66465: 1, 74719: 1, 22784: 1, 32589: 1, 79864: 1, 96461: 1, 188725: 1, 170287: 1, 54394: 1, 11165: 1, 55885: 1, 135832: 1, 53000: 1, 49999: 1, 181708: 1, 150850: 1, 173587: 1, 137432: 1, 122010: 1, 158734: 1, 78440: 1, 42219: 1, 152060: 1, 129478: 1, 50442: 1, 107635: 1, 121406: 1, 12529: 1, 184358: 1, 26363: 1, 109612: 1, 41261: 1, 167105: 1, 83899: 1, 129576: 1, 103728: 1, 105498: 1, 169620: 1, 46740: 1, 59650: 1, 32634: 1, 170347: 1, 106557: 1, 2716: 1, 109977: 1, 25028: 1, 64762: 1, 43215: 1, 20675: 1, 10278: 1, 173266: 1, 54781: 1, 25634: 1, 24798: 1, 62987: 1, 43254: 1, 96713: 1, 28903: 1, 86583: 1, 92404: 1, 32489: 1, 103877: 1, 120842: 1, 42114: 1, 153063: 1, 184865: 1, 81056: 1, 111856: 1, 25504: 1, 174169: 1, 137282: 1, 102732: 1, 172749: 1, 22301: 1, 183714: 1, 36716: 1, 6793: 1, 187655: 1, 16041: 1, 93102: 1, 45943: 1, 61280: 1, 28311: 1, 76807: 1, 189806: 1, 90420: 1, 142960: 1, 105638: 1, 102917: 1, 90207: 1, 103239: 1, 97639: 1, 166740: 1, 142505: 1, 8484: 1, 20336: 1, 102814: 1, 136933: 1, 98432: 1, 101014: 1, 144856: 1, 92982: 1, 78947: 1, 91531: 1, 70568: 1, 99656: 1, 180197: 1, 178908: 1, 154788: 1, 10947: 1, 4901: 1, 41088: 1, 158222: 1, 25236: 1, 18069: 1, 166093: 1, 192200: 1, 136944: 1, 2306: 1, 147939: 1, 38487: 1, 181524: 1, 46453: 1, 92778: 1, 125677: 1, 122086: 1, 91606: 1, 170906: 1, 38563: 1, 14453: 1, 51807: 1, 154083: 1, 155472: 1, 159535: 1, 21497: 1, 182951: 1, 75551: 1, 37017: 1, 116154: 1, 135571: 1, 179670: 1, 64712: 1, 139412: 1, 27590: 1, 46801: 1, 84147: 1, 81880: 1, 39702: 1, 17870: 1, 61802: 1, 40351: 1, 181047: 1, 75327: 1, 30653: 1, 78918: 1, 164174: 1, 93298: 1, 10817: 1, 10986: 1, 88326: 1, 111763: 1, 169140: 1, 123494: 1, 27870: 1, 48953: 1, 14447: 1, 132506: 1, 1573: 1, 145270: 1, 170573: 1, 148281: 1, 108296: 1, 38139: 1, 147825: 1, 182799: 1, 155790: 1, 57557: 1, 121882: 1, 29893: 1, 89330: 1, 61150: 1, 99512: 1, 158931: 1, 176589: 1, 98836: 1, 52593: 1, 44429: 1, 150190: 1, 71294: 1, 106826: 1, 168234: 1, 153309: 1, 116357: 1, 109256: 1, 12683: 1, 51293: 1, 182686: 1, 159154: 1, 81643: 1, 161120: 1, 35976: 1, 155428: 1, 68772: 1, 150815: 1, 27812: 1, 12265: 1, 24157: 1, 11174: 1, 147560: 1, 29839: 1, 128283: 1, 19649: 1, 97840: 1, 64243: 1, 170708: 1, 108392: 1, 63024: 1, 149482: 1, 58325: 1, 184491: 1, 159254: 1, 136881: 1, 77780: 1, 166505: 1, 131279: 1, 64724: 1, 64911: 1, 78516: 1, 57401: 1, 165392: 1, 11777: 1, 172290: 1, 138777: 1, 12667: 1, 50236: 1, 164136: 1, 42499: 1, 55566: 1, 114633: 1, 109842: 1, 3535: 1, 130930: 1, 84264: 1, 147859: 1, 109780: 1, 112082: 1, 4497: 1, 156557: 1, 3849: 1, 42891: 1, 184796: 1, 7991: 1, 61771: 1, 122821: 1, 39182: 1, 155182: 1, 70641: 1, 99336: 1, 95105: 1, 138990: 1, 107804: 1, 174608: 1, 128257: 1, 50445: 1, 8447: 1, 152571: 1, 169492: 1, 38426: 1, 90384: 1, 40214: 1, 173834: 1, 132796: 1, 164950: 1, 164013: 1, 19077: 1, 130152: 1, 31810: 1, 167218: 1, 187515: 1, 76530: 1, 14654: 1, 124409: 1, 47884: 1, 184034: 1, 148181: 1, 19474: 1, 92777: 1, 19122: 1, 151427: 1, 158359: 1, 53607: 1, 70653: 1, 170590: 1, 187008: 1, 13502: 1, 176626: 1, 135025: 1, 160281: 1, 88141: 1, 129850: 1, 131887: 1, 67833: 1, 84430: 1, 129150: 1, 105303: 1, 68883: 1, 187329: 1, 144571: 1, 69224: 1, 167144: 1, 111498: 1, 152730: 1, 75751: 1, 156581: 1, 1478: 1, 116451: 1, 132048: 1, 44601: 1, 13426: 1, 28593: 1, 30203: 1, 35728: 1, 148822: 1, 98501: 1, 69128: 1, 24569: 1, 65854: 1, 30498: 1, 145030: 1, 133736: 1, 7424: 1, 184484: 1, 64579: 1, 117638: 1, 154132: 1, 2593: 1, 113900: 1, 185710: 1, 4822: 1, 35826: 1, 134857: 1, 29037: 1, 104700: 1, 137587: 1, 101028: 1, 171442: 1, 77655: 1, 185376: 1, 3788: 1, 32996: 1, 104182: 1, 72719: 1, 33466: 1, 32060: 1, 20178: 1, 4702: 1, 23950: 1, 46213: 1, 179357: 1, 7245: 1, 56935: 1, 136426: 1, 139878: 1, 131117: 1, 130480: 1, 155592: 1, 169829: 1, 177416: 1, 125376: 1, 87967: 1, 148662: 1, 82977: 1, 125157: 1, 22517: 1, 80254: 1, 31203: 1, 22591: 1, 104581: 1, 178911: 1, 91504: 1, 104703: 1, 111373: 1, 61116: 1, 178736: 1, 78789: 1, 63290: 1, 1595: 1, 168792: 1, 178771: 1, 59196: 1, 77122: 1, 123635: 1, 35873: 1, 127734: 1, 79167: 1, 73273: 1, 157613: 1, 183294: 1, 106751: 1, 39819: 1, 184919: 1, 40427: 1, 81368: 1, 84371: 1, 166893: 1, 8032: 1, 145517: 1, 157112: 1, 174695: 1, 131302: 1, 96405: 1, 142310: 1, 101312: 1, 149479: 1, 61819: 1, 49478: 1, 162653: 1, 26080: 1, 190145: 1, 153147: 1, 122882: 1, 189602: 1, 25995: 1, 134983: 1, 31523: 1, 123235: 1, 132850: 1, 173511: 1, 91681: 1, 139109: 1, 149744: 1, 153184: 1, 108388: 1, 149128: 1, 104185: 1, 78435: 1, 189228: 1, 77491: 1, 118824: 1, 98795: 1, 11394: 1, 183711: 1, 154151: 1, 187640: 1, 83160: 1, 111675: 1, 165628: 1, 156595: 1, 180220: 1, 102807: 1, 128433: 1, 13828: 1, 125930: 1, 29663: 1, 74888: 1, 83419: 1, 181128: 1, 34091: 1, 60604: 1, 56653: 1, 75627: 1, 109822: 1, 145856: 1, 111082: 1, 40836: 1, 101642: 1, 128254: 1, 61319: 1, 168153: 1, 181478: 1, 18361: 1, 108194: 1, 160124: 1, 176797: 1, 183800: 1, 122346: 1, 150543: 1, 46938: 1, 61725: 1, 21204: 1, 116140: 1, 65464: 1, 80485: 1, 44248: 1, 131321: 1, 37720: 1, 137410: 1, 57936: 1, 21316: 1, 59951: 1, 159174: 1, 65379: 1, 70148: 1, 180090: 1, 70781: 1, 87005: 1, 136350: 1, 9123: 1, 90231: 1, 104901: 1, 84032: 1, 111294: 1, 56268: 1, 57900: 1, 176966: 1, 98428: 1, 6733: 1, 85102: 1, 136242: 1, 143852: 1, 9436: 1, 163969: 1, 9570: 1, 76091: 1, 127875: 1, 84480: 1, 141935: 1, 83211: 1, 25054: 1, 38322: 1, 120433: 1, 132703: 1, 141636: 1, 157568: 1, 48471: 1, 131558: 1, 95129: 1, 16618: 1, 155678: 1, 34280: 1, 142234: 1, 66278: 1, 138399: 1, 103998: 1, 132249: 1, 15823: 1, 87704: 1, 185698: 1, 158187: 1, 178461: 1, 69598: 1, 3695: 1, 64852: 1, 175545: 1, 48926: 1, 138000: 1, 64296: 1, 141172: 1, 7464: 1, 27444: 1, 127245: 1, 190348: 1, 22780: 1, 166154: 1, 131834: 1, 160438: 1, 179908: 1, 117105: 1, 138933: 1, 170786: 1, 101504: 1, 190566: 1, 122097: 1, 79418: 1, 156564: 1, 170574: 1, 27072: 1, 72301: 1, 186621: 1, 59332: 1, 183344: 1, 175867: 1, 141574: 1, 32111: 1, 50988: 1, 60760: 1, 91669: 1, 137397: 1, 142866: 1, 100740: 1, 116824: 1, 166248: 1, 11466: 1, 107817: 1, 68322: 1, 116182: 1, 189220: 1, 115353: 1, 15575: 1, 148825: 1, 16721: 1, 113453: 1, 64490: 1, 116682: 1, 123417: 1, 1537: 1, 29157: 1, 5765: 1, 166607: 1, 67480: 1, 50031: 1, 95317: 1, 128954: 1, 177061: 1, 182539: 1, 8142: 1, 26010: 1, 86758: 1, 135747: 1, 26330: 1, 162799: 1, 152096: 1, 128968: 1, 40465: 1, 131648: 1, 66391: 1, 136534: 1, 170412: 1, 109620: 1, 123027: 1, 165404: 1, 39566: 1, 75090: 1, 102723: 1, 13747: 1, 185459: 1, 60268: 1, 115741: 1, 131078: 1, 119831: 1, 78002: 1, 150663: 1, 58497: 1, 115874: 1, 68002: 1, 167239: 1, 49592: 1, 124537: 1, 12146: 1, 9421: 1, 177776: 1, 114140: 1, 127586: 1, 125888: 1, 5708: 1, 76578: 1, 71787: 1, 65466: 1, 86500: 1, 27810: 1, 103565: 1, 77499: 1, 20566: 1, 76155: 1, 176659: 1, 187107: 1, 91766: 1, 184615: 1, 190976: 1, 98723: 1, 13768: 1, 126105: 1, 110848: 1, 62864: 1, 143869: 1, 33951: 1, 63065: 1, 56821: 1, 103061: 1, 145352: 1, 60608: 1, 79125: 1, 190665: 1, 36345: 1, 58939: 1, 54117: 1, 72663: 1, 89454: 1, 37812: 1, 82731: 1, 188504: 1, 74989: 1, 37367: 1, 149186: 1, 126076: 1, 173566: 1, 150746: 1, 123719: 1, 23246: 1, 140395: 1, 49667: 1, 84439: 1, 116629: 1, 45303: 1, 10869: 1, 22715: 1, 137550: 1, 28500: 1, 122533: 1, 173171: 1, 87979: 1, 189983: 1, 66480: 1, 98792: 1, 49152: 1, 123309: 1, 135317: 1, 117875: 1, 131432: 1, 38657: 1, 89171: 1, 147776: 1, 9500: 1, 53629: 1, 159615: 1, 156134: 1, 183677: 1, 113780: 1, 120127: 1, 93674: 1, 70310: 1, 45879: 1, 33819: 1, 19155: 1, 86110: 1, 10330: 1, 129085: 1, 127015: 1, 81009: 1, 394: 1, 55117: 1, 68554: 1, 118827: 1, 52746: 1, 84247: 1, 140622: 1, 113670: 1, 113420: 1, 109290: 1, 52684: 1, 185176: 1, 38460: 1, 76857: 1, 26812: 1, 142321: 1, 108211: 1, 53533: 1, 191057: 1, 57986: 1, 8760: 1, 156402: 1, 176681: 1, 160505: 1, 76237: 1, 100894: 1, 18105: 1, 24550: 1, 71503: 1, 52221: 1, 62190: 1, 148570: 1, 29797: 1, 129248: 1, 8459: 1, 102695: 1, 55299: 1, 185265: 1, 90585: 1, 190222: 1, 34589: 1, 156391: 1, 134546: 1, 103751: 1, 32680: 1, 43811: 1, 113192: 1, 9021: 1, 87661: 1, 184848: 1, 131405: 1, 167421: 1, 170486: 1, 143957: 1, 1408: 1, 5143: 1, 128354: 1, 38149: 1, 114382: 1, 149525: 1, 90160: 1, 18019: 1, 173334: 1, 185134: 1, 133639: 1, 167841: 1, 11721: 1, 3605: 1, 187067: 1, 73266: 1, 53254: 1, 60501: 1, 66702: 1, 144657: 1, 115053: 1, 13760: 1, 121167: 1, 177348: 1, 142644: 1, 5099: 1, 141840: 1, 15075: 1, 62475: 1, 143417: 1, 132166: 1, 147677: 1, 183691: 1, 46884: 1, 166098: 1, 74830: 1, 137748: 1, 163957: 1, 190256: 1, 81075: 1, 58597: 1, 95580: 1, 68545: 1, 70758: 1, 8227: 1, 172743: 1, 154709: 1, 99994: 1, 174495: 1, 92834: 1, 186435: 1, 158198: 1, 189247: 1, 41453: 1, 176997: 1, 80424: 1, 179172: 1, 42631: 1, 26674: 1, 21142: 1, 5695: 1, 149770: 1, 127658: 1, 131645: 1, 119115: 1, 33110: 1, 9613: 1, 119502: 1, 126080: 1, 149137: 1, 97229: 1, 116679: 1, 106654: 1, 133101: 1, 107870: 1, 173652: 1, 143196: 1, 99593: 1, 171664: 1, 158103: 1, 161360: 1, 39050: 1, 1000: 1, 106791: 1, 31294: 1, 120555: 1, 61671: 1, 143838: 1, 84453: 1, 3568: 1, 190545: 1, 33143: 1, 191027: 1, 12847: 1, 95303: 1, 24449: 1, 93451: 1, 92913: 1, 39528: 1, 166907: 1, 153395: 1, 43101: 1, 46124: 1, 169256: 1, 129955: 1, 5384: 1, 94308: 1, 67593: 1, 24868: 1, 9917: 1, 69465: 1, 20209: 1, 186582: 1, 152036: 1, 173779: 1, 137991: 1, 6569: 1, 87468: 1, 93192: 1, 164432: 1, 46176: 1, 48772: 1, 169089: 1, 141032: 1, 15853: 1, 98480: 1, 125998: 1, 17008: 1, 179167: 1, 5647: 1, 7859: 1, 83192: 1, 36078: 1, 41983: 1, 24619: 1, 111439: 1, 155526: 1, 21291: 1, 132038: 1, 21171: 1, 187422: 1, 111301: 1, 166674: 1, 188211: 1, 156688: 1, 21641: 1, 192005: 1, 70317: 1, 45527: 1, 47236: 1, 18842: 1, 20760: 1, 77312: 1, 166551: 1, 128722: 1, 124682: 1, 27360: 1, 46432: 1, 148737: 1, 74203: 1, 168354: 1, 135398: 1, 50158: 1, 46997: 1, 138814: 1, 170976: 1, 125537: 1, 96634: 1, 46246: 1, 117377: 1, 154602: 1, 108917: 1, 146712: 1, 39716: 1, 102554: 1, 67042: 1, 192204: 1, 188650: 1, 68503: 1, 113293: 1, 40895: 1, 126246: 1, 149066: 1, 181216: 1, 49527: 1, 114986: 1, 106085: 1, 100145: 1, 58989: 1, 137831: 1, 159779: 1, 40082: 1, 1004: 1, 182136: 1, 123223: 1, 11235: 1, 27107: 1, 36478: 1, 156657: 1, 127891: 1, 27548: 1, 14637: 1, 143929: 1, 100212: 1, 151568: 1, 31542: 1, 48654: 1, 87978: 1, 177702: 1, 117053: 1, 17954: 1, 87965: 1, 2576: 1, 107263: 1, 107262: 1, 60447: 1, 142370: 1, 57586: 1, 24885: 1, 82032: 1, 165812: 1, 130182: 1, 149006: 1, 137533: 1, 37970: 1, 4888: 1, 131260: 1, 76769: 1, 24075: 1, 1361: 1, 174716: 1, 91406: 1, 174035: 1, 73560: 1, 178646: 1, 29940: 1, 53969: 1, 125179: 1, 32565: 1, 107908: 1, 45376: 1, 80290: 1, 44603: 1, 34869: 1, 126809: 1, 185193: 1, 104677: 1, 115119: 1, 133812: 1, 47242: 1, 61161: 1, 118760: 1, 152215: 1, 112831: 1, 131305: 1, 101999: 1, 80418: 1, 53008: 1, 125770: 1, 70726: 1, 154924: 1, 35985: 1, 185834: 1, 62111: 1, 98178: 1, 83645: 1, 16772: 1, 87437: 1, 18915: 1, 33988: 1, 13269: 1, 14224: 1, 67234: 1, 33897: 1, 156705: 1, 76486: 1, 70952: 1, 135605: 1, 176855: 1, 116272: 1, 152919: 1, 62503: 1, 192161: 1, 110676: 1, 184041: 1, 170646: 1, 106336: 1, 66081: 1, 28575: 1, 167749: 1, 67730: 1, 15532: 1, 60941: 1, 131901: 1, 186103: 1, 14287: 1, 173471: 1, 113439: 1, 104833: 1, 133139: 1, 104819: 1, 106417: 1, 149651: 1, 26163: 1, 187214: 1, 121535: 1, 30901: 1, 35022: 1, 110533: 1, 85184: 1, 170696: 1, 60876: 1, 99173: 1, 75689: 1, 115939: 1, 140977: 1, 19646: 1, 102093: 1, 98975: 1, 65950: 1, 103903: 1, 57131: 1, 188693: 1, 136173: 1, 97920: 1, 125509: 1, 158643: 1, 29630: 1, 191008: 1, 649: 1, 11555: 1, 49915: 1, 13606: 1, 167313: 1, 27780: 1, 104512: 1, 29510: 1, 166732: 1, 120770: 1, 148446: 1, 107566: 1, 124323: 1, 134097: 1, 54771: 1, 69671: 1, 45585: 1, 161141: 1, 137283: 1, 138895: 1, 112376: 1, 35705: 1, 118223: 1, 98246: 1, 113793: 1, 66898: 1, 59418: 1, 7774: 1, 74182: 1, 70111: 1, 49582: 1, 122286: 1, 153141: 1, 172801: 1, 99355: 1, 86925: 1, 67053: 1, 149147: 1, 140659: 1, 190201: 1, 30561: 1, 167629: 1, 130458: 1, 63773: 1, 128470: 1, 49479: 1, 131204: 1, 40776: 1, 13211: 1, 127505: 1, 135795: 1, 172673: 1, 177612: 1, 60939: 1, 170505: 1, 174961: 1, 142809: 1, 62705: 1, 185095: 1, 85008: 1, 40687: 1, 23452: 1, 151435: 1, 28196: 1, 192552: 1, 102022: 1, 140838: 1, 62371: 1, 80649: 1, 58650: 1, 176617: 1, 87844: 1, 103993: 1, 32423: 1, 115664: 1, 30142: 1, 54990: 1, 146439: 1, 55640: 1, 181838: 1, 15294: 1, 182025: 1, 115539: 1, 144331: 1, 95249: 1, 140407: 1, 171308: 1, 31901: 1, 43983: 1, 51708: 1, 74540: 1, 71917: 1, 153877: 1, 29454: 1, 20610: 1, 125291: 1, 25122: 1, 53198: 1, 71386: 1, 53095: 1, 160771: 1, 186909: 1, 151684: 1, 76983: 1, 165377: 1, 147323: 1, 144884: 1, 93884: 1, 12003: 1, 73098: 1, 191469: 1, 24929: 1, 72877: 1, 42630: 1, 108852: 1, 25730: 1, 148041: 1, 152637: 1, 134211: 1, 118770: 1, 15774: 1, 156105: 1, 100812: 1, 13482: 1, 113683: 1, 185658: 1, 169334: 1, 104647: 1, 126937: 1, 14257: 1, 184636: 1, 5709: 1, 74424: 1, 116233: 1, 130652: 1, 66952: 1, 50742: 1, 7900: 1, 125390: 1, 156703: 1, 83236: 1, 110049: 1, 126988: 1, 37702: 1, 47226: 1, 120732: 1, 28577: 1, 173924: 1, 57774: 1, 55939: 1, 54138: 1, 130116: 1, 5395: 1, 149946: 1, 35683: 1, 29969: 1, 41027: 1, 80088: 1, 154579: 1, 111226: 1, 96576: 1, 87538: 1, 77407: 1, 149304: 1, 93281: 1, 45757: 1, 176456: 1, 17787: 1, 84605: 1, 85617: 1, 59034: 1, 3382: 1, 53367: 1, 25671: 1, 146412: 1, 161072: 1, 43809: 1, 10514: 1, 109195: 1, 62449: 1, 108810: 1, 31741: 1, 152142: 1, 87342: 1, 104435: 1, 84964: 1, 105393: 1, 78376: 1, 58109: 1, 154012: 1, 80450: 1, 96483: 1, 115909: 1, 87170: 1, 22989: 1, 120949: 1, 136260: 1, 143721: 1, 166948: 1, 181012: 1, 10248: 1, 151782: 1, 179875: 1, 64114: 1, 90553: 1, 130653: 1, 21542: 1, 19879: 1, 23317: 1, 145408: 1, 187736: 1, 18567: 1, 61123: 1, 167626: 1, 171647: 1, 111748: 1, 90011: 1, 24505: 1, 81587: 1, 16917: 1, 128727: 1, 9952: 1, 181241: 1, 36211: 1, 43203: 1, 71935: 1, 183877: 1, 144755: 1, 50955: 1, 182371: 1, 149030: 1, 136079: 1, 119957: 1, 188185: 1, 143307: 1, 143736: 1, 167224: 1, 31944: 1, 116605: 1, 20314: 1, 75477: 1, 154291: 1, 157450: 1, 126765: 1, 132221: 1, 140240: 1, 114386: 1, 35995: 1, 44814: 1, 6735: 1, 167738: 1, 43169: 1, 27502: 1, 95666: 1, 12648: 1, 64748: 1, 184866: 1, 48270: 1, 129789: 1, 51166: 1, 112209: 1, 179707: 1, 46655: 1, 143750: 1, 179820: 1, 125302: 1, 90764: 1, 11504: 1, 190795: 1, 80977: 1, 76696: 1, 107382: 1, 157842: 1, 130150: 1, 88158: 1, 32516: 1, 97516: 1, 25052: 1, 120266: 1, 99234: 1, 3760: 1, 137176: 1, 16316: 1, 117604: 1, 78213: 1, 50235: 1, 115417: 1, 62790: 1, 64740: 1, 28928: 1, 39652: 1, 80840: 1, 37817: 1, 65658: 1, 60606: 1, 81595: 1, 63380: 1, 161128: 1, 110249: 1, 39299: 1, 174458: 1, 72454: 1, 82344: 1, 190970: 1, 137056: 1, 173939: 1, 115412: 1, 132869: 1, 78192: 1, 136801: 1, 111234: 1, 80266: 1, 1646: 1, 182075: 1, 116546: 1, 176785: 1, 190890: 1, 78714: 1, 7585: 1, 48262: 1, 89018: 1, 109274: 1, 103590: 1, 127547: 1, 56787: 1, 22611: 1, 78015: 1, 84837: 1, 145962: 1, 115024: 1, 22353: 1, 63714: 1, 100827: 1, 81359: 1, 41098: 1, 151151: 1, 147366: 1, 5146: 1, 9418: 1, 69186: 1, 183624: 1, 128464: 1, 78254: 1, 152000: 1, 60411: 1, 18677: 1, 83919: 1, 36166: 1, 115300: 1, 7746: 1, 122951: 1, 75774: 1, 50607: 1, 146190: 1, 140859: 1, 140704: 1, 2894: 1, 163251: 1, 26012: 1, 134946: 1, 98829: 1, 130013: 1, 178524: 1, 50683: 1, 67943: 1, 131573: 1, 102964: 1, 137579: 1, 149533: 1, 42795: 1, 124918: 1, 50293: 1, 140050: 1, 100150: 1, 76662: 1, 79473: 1, 186765: 1, 45793: 1, 2539: 1, 47184: 1, 98294: 1, 157023: 1, 170313: 1, 185291: 1, 162897: 1, 132231: 1, 34758: 1, 93547: 1, 27289: 1, 176434: 1, 128005: 1, 113887: 1, 72766: 1, 174334: 1, 121267: 1, 110221: 1, 43945: 1, 57315: 1, 14: 1, 112126: 1, 42228: 1, 100647: 1, 39509: 1, 16809: 1, 120876: 1, 140882: 1, 9892: 1, 66681: 1, 139502: 1, 54226: 1, 111235: 1, 94854: 1, 66608: 1, 48913: 1, 177258: 1, 45762: 1, 90052: 1, 153541: 1, 98174: 1, 23646: 1, 13950: 1, 33017: 1, 125801: 1, 148876: 1, 46302: 1, 97821: 1, 174752: 1, 154395: 1, 81413: 1, 73227: 1, 147014: 1, 174344: 1, 30831: 1, 172534: 1, 84343: 1, 131557: 1, 107921: 1, 48091: 1, 19242: 1, 12061: 1, 108215: 1, 177036: 1, 82215: 1, 131028: 1, 138929: 1, 62963: 1, 9959: 1, 70215: 1, 55990: 1, 99937: 1, 136633: 1, 63637: 1, 79817: 1, 13425: 1, 64201: 1, 7699: 1, 179013: 1, 152375: 1, 70998: 1, 939: 1, 39839: 1, 170309: 1, 182328: 1, 71735: 1, 7871: 1, 131026: 1, 111334: 1, 133490: 1, 118611: 1, 62700: 1, 19369: 1, 90559: 1, 87786: 1, 112150: 1, 92818: 1, 96900: 1, 25005: 1, 83214: 1, 5613: 1, 180976: 1, 154111: 1, 187861: 1, 110072: 1, 131972: 1, 139060: 1, 30616: 1, 44160: 1, 28042: 1, 128200: 1, 177985: 1, 25817: 1, 170165: 1, 170311: 1, 103880: 1, 93284: 1, 164824: 1, 94383: 1, 124138: 1, 33674: 1, 76597: 1, 147505: 1, 137568: 1, 33748: 1, 7411: 1, 86792: 1, 134455: 1, 189117: 1, 117272: 1, 14639: 1, 58198: 1, 141814: 1, 142416: 1, 100626: 1, 175077: 1, 69677: 1, 117660: 1, 57104: 1, 189282: 1, 2758: 1, 41796: 1, 64836: 1, 142386: 1, 170205: 1, 75018: 1, 21167: 1, 67079: 1, 133869: 1, 85078: 1, 157357: 1, 123669: 1, 184806: 1, 52214: 1, 101656: 1, 152460: 1, 88018: 1, 142427: 1, 129218: 1, 156036: 1, 124450: 1, 155757: 1, 137779: 1, 32656: 1, 67629: 1, 61603: 1, 158656: 1, 10989: 1, 36066: 1, 191429: 1, 57184: 1, 124704: 1, 38515: 1, 180127: 1, 45403: 1, 12834: 1, 77167: 1, 146787: 1, 88761: 1, 72036: 1, 90589: 1, 91598: 1, 94995: 1, 134856: 1, 93927: 1, 158126: 1, 180231: 1, 183678: 1, 112857: 1, 20415: 1, 46337: 1, 134749: 1, 83023: 1, 112494: 1, 25328: 1, 36976: 1, 164229: 1, 152130: 1, 168634: 1, 60017: 1, 135985: 1, 66427: 1, 160109: 1, 136814: 1, 161327: 1, 48416: 1, 161856: 1, 59911: 1, 183593: 1, 98435: 1, 152901: 1, 4246: 1, 122560: 1, 107312: 1, 90628: 1, 31136: 1, 165777: 1, 6393: 1, 131357: 1, 153951: 1, 19290: 1, 120296: 1, 146499: 1, 174920: 1, 184984: 1, 174832: 1, 135621: 1, 12461: 1, 81603: 1, 165308: 1, 180448: 1, 151702: 1, 98297: 1, 115105: 1, 62680: 1, 187033: 1, 33899: 1, 163594: 1, 130513: 1, 180240: 1, 24973: 1, 34744: 1, 91760: 1, 139386: 1, 54684: 1, 46103: 1, 140794: 1, 46556: 1, 107999: 1, 104723: 1, 158536: 1, 25528: 1, 8328: 1, 95913: 1, 71669: 1, 4310: 1, 66914: 1, 181809: 1, 181120: 1, 153148: 1, 44290: 1, 169472: 1, 165421: 1, 32281: 1, 131873: 1, 27132: 1, 152591: 1, 132893: 1, 47437: 1, 181556: 1, 181339: 1, 142015: 1, 9134: 1, 15352: 1, 96452: 1, 28399: 1, 30127: 1, 156097: 1, 32825: 1, 174484: 1, 56581: 1, 32114: 1, 139782: 1, 160591: 1, 20160: 1, 163849: 1, 106274: 1, 105193: 1, 114546: 1, 113908: 1, 131187: 1, 69787: 1, 116275: 1, 46281: 1, 51391: 1, 146073: 1, 111929: 1, 184699: 1, 45432: 1, 156056: 1, 97654: 1, 66965: 1, 102110: 1, 170153: 1, 184018: 1, 166816: 1, 68236: 1, 112917: 1, 21780: 1, 124508: 1, 69338: 1, 5763: 1, 188081: 1, 34599: 1, 180251: 1, 80936: 1, 181113: 1, 4302: 1, 101527: 1, 172132: 1, 181574: 1, 161381: 1, 4896: 1, 49019: 1, 76356: 1, 65975: 1, 28762: 1, 40463: 1, 2405: 1, 58168: 1, 39612: 1, 102268: 1, 173698: 1})"
     ]
    },
    {
     "name": "stdout",
     "output_type": "stream",
     "text": [
      "\n"
     ]
    }
   ],
   "source": [
    "print(Counter(train_10000[\"business_id\"]))"
   ]
  },
  {
   "cell_type": "code",
   "execution_count": 57,
   "metadata": {},
   "outputs": [],
   "source": [
    "rest1 = train_10000_en.loc[train_10000_en[\"business_id\"] == 20089]"
   ]
  },
  {
   "cell_type": "code",
   "execution_count": 61,
   "metadata": {},
   "outputs": [
    {
     "name": "stderr",
     "output_type": "stream",
     "text": [
      "D:\\anaconda\\lib\\site-packages\\gensim\\utils.py:1197: UserWarning: detected Windows; aliasing chunkize to chunkize_serial\n",
      "  warnings.warn(\"detected Windows; aliasing chunkize to chunkize_serial\")\n"
     ]
    }
   ],
   "source": [
    "import pandas as pd\n",
    "import tqdm\n",
    "from tqdm import tqdm, tqdm_pandas\n",
    "from multiprocessing import Pool\n",
    "import multiprocessing\n",
    "n_cpu = multiprocessing.cpu_count()\n",
    "import re\n",
    "import numpy as np\n",
    "import gensim\n",
    "from gensim.corpora.dictionary import Dictionary\n",
    "from nltk.stem import WordNetLemmatizer\n",
    "from nltk import word_tokenize, pos_tag\n",
    "from nltk.corpus import wordnet\n",
    "import pyLDAvis.gensim\n",
    "import pyLDAvis\n",
    "from gensim.models import CoherenceModel\n",
    "%matplotlib inline"
   ]
  },
  {
   "cell_type": "code",
   "execution_count": 64,
   "metadata": {},
   "outputs": [
    {
     "name": "stderr",
     "output_type": "stream",
     "text": [
      "100%|██████████| 91/91 [00:00<00:00, 169.86it/s]\n"
     ]
    }
   ],
   "source": [
    "from tqdm import tqdm, tqdm_pandas\n",
    "tqdm.pandas()\n",
    "dictionary1 = rest1.text.progress_apply(preprocessing)"
   ]
  },
  {
   "cell_type": "code",
   "execution_count": 82,
   "metadata": {},
   "outputs": [
    {
     "data": {
      "text/plain": [
       "['pay',\n",
       " 'view',\n",
       " 'strip',\n",
       " 'disappointed',\n",
       " 'view',\n",
       " 'pool',\n",
       " 'saw',\n",
       " 'ti',\n",
       " 'facade',\n",
       " 'trump',\n",
       " 'tower',\n",
       " 'not',\n",
       " 'worth',\n",
       " 'extra',\n",
       " 'price',\n",
       " 'restaurant',\n",
       " 'choice',\n",
       " 'great',\n",
       " 'food',\n",
       " 'good',\n",
       " 'casino',\n",
       " 'fun',\n",
       " 'room',\n",
       " 'okay',\n",
       " 'would',\n",
       " 'think',\n",
       " 'twice',\n",
       " 'stay',\n",
       " 'customer',\n",
       " 'excellant',\n",
       " 'staff',\n",
       " 'stand']"
      ]
     },
     "execution_count": 82,
     "metadata": {},
     "output_type": "execute_result"
    }
   ],
   "source": [
    "ggg[1]"
   ]
  },
  {
   "cell_type": "code",
   "execution_count": 73,
   "metadata": {},
   "outputs": [],
   "source": [
    "text_temp = [dictionary1[i]['text'] for i in rest1.index]"
   ]
  },
  {
   "cell_type": "code",
   "execution_count": 74,
   "metadata": {},
   "outputs": [],
   "source": [
    "sentence_stream1 = [sent.split(' ') for sent in text_temp]"
   ]
  },
  {
   "cell_type": "code",
   "execution_count": 75,
   "metadata": {},
   "outputs": [],
   "source": [
    "bigrams = Phraser(Phrases(sentence_stream1, min_count=5, threshold=5))"
   ]
  },
  {
   "cell_type": "code",
   "execution_count": 76,
   "metadata": {},
   "outputs": [],
   "source": [
    "ggg = bigrams[sentence_stream1]"
   ]
  },
  {
   "cell_type": "code",
   "execution_count": 79,
   "metadata": {},
   "outputs": [],
   "source": [
    "text_temp_new = []\n",
    "for i in range(len(ggg)):\n",
    "    text_temp_new.append(concatenate(ggg[i]))"
   ]
  },
  {
   "cell_type": "code",
   "execution_count": 80,
   "metadata": {},
   "outputs": [
    {
     "data": {
      "text/plain": [
       "['blown away sophisticated beautiful hotel one best la_vega decor breathe take place always smell like magical garden many top notch restaurant spa service show club choose vegas luxury last time stay july 2011 big disappointment total 8 u one bed break fell flat floor foul play 6 8 u leave kind bug bite look like terrible case eczema rash mechanic curtain not_work main v not_work actually disappointed understatement disgust 5star resort hotel fail u miserably please view picture rash',\n",
       " 'pay view strip disappointed view pool saw ti facade trump tower not worth extra price restaurant choice great food good casino fun room okay would think twice stay customer excellant staff stand',\n",
       " 'extremely annoy venetian chooses broadcast fox news vip lounge customer employee would consider harassment since neither choice change channel try complain employee state not able change channel trust venetian customer employee not want force watch fox news please change neutral channel cnn provide transparent news',\n",
       " 'nice hotel ever stay vega find great deal week could not pass clean staff friendly much food choose downstairs pretty convenient location strip well definitely stay',\n",
       " 'absolutely complaint stay bella suite view fantastic room amazing service friendly staff reason not get 5 star room_service yeah yeah know expect pay high price room_service food but 34 hot tea doughnut ouch charge 5 room_service but think free',\n",
       " 'not stay hotel but visit hotel shop beautiful place not crowded quiet peaceful love place hotel locate strip north end less crowd north mall right across street hotel many high end store shop lv cartier etc but regular mall across street macy forever 21 etc gondola_ride nice but short 19 95 person 10mins long stay door door gondola hear door well night light great overall experience wonderful restaurant awesome shop',\n",
       " 'gorgeous hotel felt like vip definitely next best thing real venice opinion lot pool choose great casino convenient location close everything would definitely go',\n",
       " 'venetian beautiful hotel many cool fun thing see get suite room huge reason 4 room_service food not great item leave previous guest room tell room_service not thorough job',\n",
       " 'venetian elegant distinguish resort casino gorgeous romantic decor interior way room greet candlelit hallway ceiling light way even although not try restaurant bouchon smell emanate kitchen make mouth water casino expansive sign everywhere easy navigation room huge clean well maintain convenience store bakery coffeeshop locate entrance casino near elevator room plus need get quick pick forget pack something venetian must stay ever la_vega give din gambling stay experience never forget',\n",
       " 'stay hotel strip even stardust frontier around encounter atmosphere check line restaurant pool nightclub hotel hand venetian palazzo best offer luxury yes club well tao good restaurant grand lux but hotel not great service great decor room venetian like hotel focus one great trait day club night club room accommodation but venetian across board table loose room suite family side pool adult side cosmo catch although but yeah venetian definitely tight butthole',\n",
       " 'grand place many way lobby pretty décor top disneyland shop great choice restaurant skew towards heavy food good room big comfortable room probably best reason book get room week 175 less room always smell bit funky first walk although not sure maybe time rip carpet but property crowd crowd not exactly fun type las_vega people like show jersey shore invade place sure average person garden state enjoyable crowd cheap plastic gaming average strip gaming lot slot fun machine',\n",
       " 'fortune spend around 20 weekend venetian include first weekend open always still class hotel wear well look good first weekend room suite big others but even small suite large hotel junior suite know hotel get act together version coffee shop grand lux cafe shoot cheesecake factory great restaurant show poker room one best see soon old friend',\n",
       " 'totally gaudy but great spent 26th birthday wknd also happen first trip vegas despite living la since 18 imagine anyhow stay suite step living_room gold place make wear stunna shade lol definitely check v bar drink unique place definitely grown sexy',\n",
       " 'venetian straddle dual aspect early 21st century la vegas well get appeal calculated imitation adult disneyworld but still polish unrestrained opulence la_vega evolve sort dubai gamble crowd diverse wealthy foreign tourist guest herd shopping mall auspex pay tour guide certainly monument global ambition indeed vega evolve imagine open venetian pinnacle elegance strip long summit still fantastic place stay room decorate classic italian motif fairly spacious aspect room show age need call maintenance one point property indeed huge lot offer top notch din upscale shopping considerable entertainment venetian troubadors gondola_ride show casinos scale operation put perspective recount check experience felt like board cruise ship crowd process walk cabin excellently but not look vacation may need think vegas thing go peak week felt room rate good deal ever go_back vega consider stay',\n",
       " 'excellent hotel room great service signage little confusing since multiple route area hotel casino but always security guard hotel staff around ask direction great security well hotel guest',\n",
       " 'spanish basic maid knock door give dirty look wait bell boy get bag say something spanish ask didnt answer say seven english overall stay fine maid tick not ever treat service personnel badly put college know feel but dirty look attitude overtake usual considerate nature think offended not fault bellboy take 45 minute get room',\n",
       " 'double queen_bed look pretty nice room living_room area level low bedroom level but find room many issue many outlet not_work bathroom door not lock etc but everything need maybe extra really love bathroom well decorate furnish specially dress make area pool fourth floor little disappointing not seem well maintain organize maybe go summer time different',\n",
       " 'family go vegas week vegas but first time stay venetian great time stay 2 connect suite spacious give u enough room comfortable entire hotel massive almost like big mall ton restaurant serve different kind food everyone find something eat venetian place good spot strip able walk hotel see lot different area look inside hotel gorgeous point place inside hotel actually feel_like italy italy place hotel actually catch think back italy one negative get around hotel get hotel room outside hotel pretty big walk expect but still long day walk around get hotel realize walk long get back room bit annoyance but family blast love hotel go_back vega probably stay venetian',\n",
       " 'not waste money stay wynn terrible stay expect much checking rude front_desk lady even although confirm type room purchase bella vega com front_desk give single bed room argue get pay start trip poor stay three major issue 1 internet wifi not_work guy couldnt figure give freak hard wire use blue wire laptop constrain desk 2 room dirty closet previous guest hanger plastic around call housekeeping soon arrive terrible 3 lamp lounge room not_work call engineer fix not hop',\n",
       " 'float 10 minute comfy gondola romantic setting awesome gondolier entertain u personal story ensure great time',\n",
       " 'true hotel carry vega visit venetian experience awesome interior romantic evening event entire hotel sparkle huge weekendinvegas',\n",
       " 'great hotel welcome hotel amazing room high end clean love hotel far highly recommended',\n",
       " 'whoa shock hubby book trip birthday vega but even blown away check venetian hotel check pretty quick decor look amazing service nothing spectacular but suite get blow u away coulda fit family extra couch exec suite would definitely rebook hotel next trip las_vega',\n",
       " 'love hotel absolutely beautiful suite big well nicer one bellagio wynn service great fast efficient pool gorgeous soo much see hotel make great place stay hotel remind beautiful italy marble fresco decor absolutely breath take romantic sweet place place 2 stay 4 couple',\n",
       " 'hubby stay venetian week last week price great 169 night package include 40 phantom opera show ticket definitely plan see perfect discount package asian restaurant mexican one palazzo but not use venetian omg love place perfume scent others complain review actually not bad worry highly allergic strong smelling perfume but actually really nice even miss not sneeze arrive early 2pm check problem 3pm checkin room nice hubby jaw sort drop first saw room book whole thing already saw picture spacious bathroom bedroom living_room 3 tv place subtract star although b c tv bathroom not_work bum b c woman spend lotta time pool area 4th floor nice another pool shade privacy 10th floor not check tao beach didnt even realize different area late hubby walk say nothing major believe sufficient chair pool waitress come occasionally see anyone need drink could make money personally come frequently drink good restaurant riva wolfgang puck really good lunch menu pizza great salad overall next time vega definitely stay venetian',\n",
       " 'time year 2002 venetian top line hotel stay 250 night stay friend 3 night room huge 2 queen_bed sofa queen_bed 2 tv one tv sofa area another 2 queen_bed area issue remove move item refrigerator would charge rate removed item charge rate friend argue remove charge 3 star hotel stay venetian back 2010 not well take care good room would need stay venezia palazzo rating room still ok but not clean take care rest hotel',\n",
       " 'great room nicely decorate spacious comfortable ton amenity bed super comfy room central air room_service excellent fairly fast bathroom huge large jacuzzi tub small tv robe closet nice touch check check fast helpful front_desk staff highly recommend hotel stay strip',\n",
       " 'stay many time year hotel vega even come close hear wynn stay regular room penthouse friend high place say room far comfortable spacious sectional couch room great lounge tell soft sheet towel like snuggle bear anyway return recent trip not disappointed staff friendly thank much not starbucks but rather coffee bean tea leaf make love place even',\n",
       " 'one word opulence stay numerous hotel la_vega nothing compare incredible elegance worldliness warmth playfulness bundle one delightful package hotel exude first room not even comparable room strip every room venetian huge suite either double queen king size bed make stand love layout suite living_room area separate bed area small set stair adjoin together simply brilliant simply gorgeous always make feel comfortable moment enter room marbled floor bathroom look like mini palace need say feel immensely luxurious venetian luxury one many appeal factor hotel offer much apparent beauty class offer great sense satisfaction due fact make sure guest receive utmost enjoyment comfort aspect stay gondola rid musical entertainment square fabulous restaurant free parking amenity venetian offer take breath away likely wish stay forever always look forward stay thank incredible experience beautiful every way p not forget different flavor gelato omg',\n",
       " 'best hotel vegas super clean really top fancy great security much inside hotel amaze restaurant not think stay anywhere else',\n",
       " 'one favorite hotel las_vega never italy but dream really maybe reason absolutely fall love decor hotel room impressive prefer stay 33 34 floor amazing view good swiping pool recommend mouse one two night vega',\n",
       " 'stay 12 year come least every fall check usually great get 1 star experience reservation make 2 month ago arrive 5 tell king non smoke available reserve refuse smoking room 15 minute later magically room gym open early 6 need attend meeting etc otherwise typically good experience',\n",
       " 'first full day im lil jetlagged place beautiful huge super clean staff extremely helpful friendly call housekeeping last night hypoallergenic bedding hub forget ask enrique floor 2 500 venetian tower super job super fast remember normally sat sun huge check 5stars turning room quickly wait hub finish conference go early dinner kudos enrique well job young man keep good work',\n",
       " 'think venetian good wynn good macau wynn need maintenance find wynn wood thing wood chair wood door paint drop compare venetian shop definitely walkable street performance interesting offer steak breakfast',\n",
       " 'review strictly happen result lack security front_desk not amenity room hotel check venetian aug 19 computer system take everyone credit card number hand write write phone number full name signing nervous use american express card great time hotel but get home alert amex multiple fraudulent internet charge contact one merchant turn customer use correct full name credit card number phone number but wrong billing address interest info write venetian but nothing else amex take care fraud immediately but call venetian not care say investigation could not prove someone hotel put security department take information never call back place horrible security not stay unless want identity stolen',\n",
       " 'starter shuttle service take hour come pick u airport appear one small van bus use but ton extremely overpriced limo but prepare pay 12 per person one way trip van driver rude impatient yell passenger majority hotel staff extremely rude unfriendly check long ordeal room subpar mini fridge not_work want empty use stuff week go cost 25 plus 50 every day empty super careful not even touch something electronically monitor charge whether drink eat not speak manager fix first day come fix hour check maid service ridiculous although inform contract barely clean room never replace towel throw shampoo soap onto counter everyday come hour earlier would knock even not disturb sign hang first night request extra blanket 2 hr later still blanket call second time 45 minute bring thin disgusting blanket light burn fix room still dark couch hideaway bed outdated ugly fall apart extremely uncomfortable entire casino lobby smell overpowering horrid food even vega really overpriced mediocre spa bad one lady even scold u like child literally yell u b c self tour locker room even although explain spa front_desk attendant tell u hotel pain navigate get guest elevator either navigate casino shopping plaza weekend night forget club tao place madhouse entrance line take entire foyer eat love burger staff fantastic but get really sick within hour eat resort fee not include fitness center reputation venetian extraordinarily disappointing fact come time gamble shop go hotel not give money run least three guest bad problem next trip vegas stay elsewhere perhaps bellagio mgm',\n",
       " 'get pretty lucky mother law comp 3 night stay suite venetian suite not spacious but luxurious comfortable alalthough not spend much time inside standard suite but great enough nice sit area complete big comfy couch relax sink right bed end day lot closet room dresser space bathroom amaze wonderful shower large soak tub kind wished chance check tub p guest serf excellent late night stroll around palazo magnificent hotel amazingly design make feel_like royalty pool hot tub worth time day explore relax take garden surround wear sandels concrete hot restaurant venetian sound entice alalthough never eat manage sneak gondola_ride cheesy yes touristy bet but worth every minute voice amaze happy stay absolutely love hotel return vegas look stay',\n",
       " 'favorite place stay vega room big well design service well bellagio wynn casino great maybe bit dated compare aria wynn poker room among best town restaurant choice canyon ranch outstanding',\n",
       " 'beautiful room great service pillow deliver room quickly need safe reset janitor quickly everytime call service line answer quickly politely good experience stay would stay',\n",
       " 'venetian nice convenient pretty spacious option stay lv although pricey side room suite even low tier one pretty large cozy pretty nice view well explore city location pretty convenient pretty central',\n",
       " 'amaze staff kind go way resort incredible room nice parking free food excellent definitely back',\n",
       " 'leave room 8am morning come_back 3p room not clean but sister ask housekeep front_desk mr kennedy front_desk say room clean every day unless request tell not mention check policy call room cleaning 5 star hotel room cleaning every day check thia hotel make sure ask room clean',\n",
       " 'would not recommend hotel even bad enemy stay venezia tower first two night wake every morning 5am door slam room end hallway door slam believe janitor closet kind employee exit slamming not but every 5 10 minute come people vegas people not sleep 5am call front_desk move room venetian tower glad move but problem room well u girl start get_ready night shower water not go drain call front_desk say someone fix tell not time need get_ready night lady say call back get_ready send someone seriously gross want take shower standing water not go drain someone shower seriously lady finally say move u second time move new room course something else wrong bathroom door not close toilet not flush right money spend hotel rather would stay luxor get suit lady front_desk rude well not want help reason one star could not give negative one never come',\n",
       " 'first time stay hotel beautiful staff well trained friendly cabana nice pool never crowded pricing good would recommend table 10 dinner like flavorful cooking excellent choice hotel',\n",
       " 'ten girl 1 100 square foot rialto suite fit nicely two queen size bed one pullout fit 1 part couch may sleep floor but easily ask additional sheet pillow particular suite locate rollout bed not allow due safety standard would say pool gym best amenity pool would probably get early around 10 claim spot gym even rock climb wall additional cost row machine power water impressive right outside elevator room first floor bouchon bakery early morning may one establishment open quick bite convenient god food 1 2x per day trip also grand lux cafe not far away either overall location venetian good could also go tao beach tao nightclub conveniently would say good spot come group look share room look discount miss deal month earlier but still end 1000 total night decent split 10 girl',\n",
       " 'beautiful wonderful painting gondola_ride inside outside bro gf bf take inside one lovely painting scenery get see bridge get go venetian italy thats look way totally italy look recommend anyone experience rid gondola_ride not still see beautiful painting hotel visit hotel visit vega',\n",
       " 'return first trip las_vega stay venetian 4 night hotel absolutely stun everything expect regard outlandish opulence la_vega stun would likely not book twice overprice factor resort fee 45 per night not room much would not use pool fitness center town way rake extra cash pro security exceptionally clean quiet floor smell nice beautiful artwork open casino floor shopping restaurant galore con price little steep resort fee scam coffee maker room big disappointment microwave usable refrigerator bathroom fan one sink bathroom one towel hook',\n",
       " 'excellent hotel casino wife love time really felt safe security random vehicle check suite elevator security making sure guest go suite everyone nice answer question get din spot reservation fro stay felt safe know happen last year oct 1 2017 thank make u feel_like vip safe',\n",
       " 'hotel top notch way casino nicely lay decor top line room best least stay vega service always first class entire family restaurant occassions food court simply want bite go informal din grand lux formal postrio etc well club tao v course shopping world class spa not personally go spa but family memebers love schedule little wonky but quality 1st class',\n",
       " 'go eat yesterday night not reservation make tuff go anyplace eat but new year eve understand',\n",
       " 'another memorial day another drive coast mountain really but find ocean side city bay enjoy urban weekend struggle week could not deal drive 10 mile hour 45 55 mph zone behind cyclist rid three across state highway could not imagine try enjoy walk bicycle fly 20 mph always contemptuous las_vega but also sick come home weekend away stressed leave speed slow bicycle round curve slam brake cyclist rid two three across get flip half time open mind accept venetian alternative several visit conference meeting know canal pleasant place enjoy walk stop dinner take plunge something different best move ever make evening realize much deal bicycle everywhere else degrade experience general quality life yes las_vega manufactured environment but good manufactured environment first time long time feel completely relax weekend away',\n",
       " 'review hotel stay stay one night impress room enormous give couch area could easily sleep several people bathroom huge vanity mirror section separate tub shower would love setup room_service staff friendly prompt downside minor seem like journey check actually get room easy place get lose',\n",
       " 'love suite hotel definitely one favorite place stay strip sleep 6 comfortably also like added tv bathroom nice touch nuff say',\n",
       " 'room look nice but suite coffee maker microwave fridge slot machine bet max bet win jackpot min bet small bet pay nothing need new machine',\n",
       " 'would rank venetian one good stay vega strip reside ideal location 15 minute airport middle chaos love shopping architecture not think hotel beat mean hot damn gondola mini river inside hence name first floor black jack table poker slot etc like anywhere vega but would say separate others following way venetian connect grand canal palazzo together campus rank second large hotel world hotel notable iconic sport bet room city 24 hour cafe soak dem dranks host 40 restaurant stay stay master suite take bed soft but firm sheet felt plush knock right away long day travel ii bathroom one grand bathroom see hotel small separate room exist toilet also jacuzzi sink glass shower mirror foot away not sure but not hurt immaculate iii aesthetic date dingy not go lie room lot dust need good shampooing one expect vega know happen iv price price hotel room range depend course time year day week type somewhere 350 400 per night still hungover ok v service professional but person clean room not come sometimes vi overall would recommend venetian stay not sure think hotel strip provide good accommodation price would not hate stay although talk shopping site see almost unbeatable',\n",
       " 'excellent resort great view 22nd floor strip everybody work super polite course ca not complain variety restaurant food shop venetian palazzo matter fact whole floor dedicate shop huge huge variety food cafe store super ultra high end fairly affordable clothing skin care shop bag shop everything term shop also many pool fitness centre typical resort stuff super nice room elegant decor even although locate slightly north casino still walkable distance every casino even main lobby decor first floor really exquisite everybody super nice see achieve 5 star status hotel ever back town consider stay venetian',\n",
       " 'great hotel get suite room spacious everything clean house keep nice love venetian great location strip also really convenient canal shoppes downstairs lot food option make easy go couple floor coffee drink',\n",
       " 'hotel pretty cool size room but little old would prefer newly remodel room location not best unless prefer go downtown',\n",
       " 'even 3 yr last review still hold place venetian top resort casino la_vega since late 90 able keep property look great continue offer awesome restaurant couple best nightclub town whenever back vega come eat dine party stay return factor 100',\n",
       " 'fancy pretty italian love food selection shop decor people work great place walk around kill time become broke',\n",
       " 'beautiful architecture artwork throughout hotel room large spacious clean lot shop restaurant entertainment within hotel staff nice courteous venezia tower 2 queen_bed bella suite first take u forever find room venezia tower add afteralthought take elevator floor registration walk long confusing hallway look take another elevator room find room hotel huge try find room drunk tire 4am lol couple time finally bathroom double door nice full tub shower vanity 2 sink separate toilet room also get blue man group ticket special stay awesome show btw definitely worth price stay middle strip close everything upon check concierge help u print e ticket flight overall great experience',\n",
       " 'room nice spacious like location restaurant locate inside pro spacious room huge beautiful bathroom bouchon inside hotel great hotel staff nice clean lobby con ca not think',\n",
       " 'love every room suite much hotel mall inside connect hotel believe company even little gondola_ride inside hotel one outdoors but know lot restaurant bar option real downside check line little long but vacation day need time line relax excitement anyway confusing hide fee cheap room still amazing friggin suite still travel outside hotel wander hotel but come conclusion probably never even need venetian favorite nice bright casino not dark dingy like one great experience',\n",
       " 'first time vega let say venetian beautiful hotel stay firstly lobby beautiful high ceiling beautiful grecian style painting front_desk attendant kind patient even give u upgrade get room view pool walk casino get room tower not far difficult navigate head magnificent room spacious clean gorgeous really like theme venetian make feel_like royalty bathroom first door walk huge separate shower bath great vanity space also light desk mirror addition double sink room also spacious giant king bed comfortable extra live space sofa pull bed two v small side but not spend much time room lounge not huge issue mini bar expensive but multiple walgreen close not purchase anything service impeccable not room clean everyday but need clean would call leave room hour two meal would quickly clean time back pool also really big lot chair available little kid even adult pool food option pretty decent couple late night spot open well time wander strip try new thing but definitely variety available venetian complaint hotel great service amazing room',\n",
       " '3 5 star beautiful inside lobby outside front suite 3 but lobby bump score 5 suite sort dingy outdated learn venetian something call pizza_party could order room_service girl take taxi van back room order pizza_party two girl convince stay friend promoter head christian audigier club not even like shirt imagine club like promoter friend 3 6 mafia girl stoke meet short one gold teeth walk haze meet 3 6 guy way club invite u go another club keep thinking foot hurt really want try pizza_party point send 5 text 2 phone call regard girl order soon would arrive head go_back eat one get way hungry guy cocky rapper glory like go mamma wan na go go party um go_back venetian something call pizza_party unusually large pizza salad wing not want party go pizza_party thang say sure but go boring group girl dress pjs eat brain fun club two girl want go nice meeting bye eeeh promoter rush back suite eat eat eat get back ask pizza_party guy say big order regular place wtf say fine but eat much plan eat hope enough food leave everyone else laugh say oh grace receive delivery enough food girl finish two girl come_back ask food leave girl answer um grace nuff say girl come_back early ask rapper guy stick head one girl dress middle club dance freak leave immediately lesson learn 1 not order enough food not enough 2 not choose rapper food least food not bend come dress',\n",
       " 'favorite luxury hotel lv venetian excellent job make feel somewhat normal three night manic mayhem ca not but feel respectable nod head doorman wave room card hold head high stop wobble walk straight back pool bloody mary margarita take part water aerobics early bird',\n",
       " 'tourist point view one hotel love visit vega decor amaze realistic sky backdrop italian boutique photo galore definitely take many pic next time stay maybe try gondola_ride look ultra romantico',\n",
       " 'far favorite place stay vega date stay hotel include encore would rather stay suite room seriously awesome bathroom large get tv bathroom bedroom living_room area also like sunken living_room make room feel even large get great selection shop restaurant include bouchon bakery make awesome pastry parisian macaroon venetian score place instead paris hotel certainly mystery but sure make venetian good choice pool area set like typical european garden wish real grass instead turf really hot walk summer also one large pool get crowded make question cleanliness water but fairly relax regardless nice various area beach chair small not feel_like pool 1 000 people even although put lot althought architecture place italian romantic check staff great upgrade u small suite large one free hope stay many many time',\n",
       " 'nice room 26 floor nice great sleep hand one best get ta go start day work haha',\n",
       " 'one favorite hotel la_vega land top place king favorite feature grand canal ask might actually improvement murky water real venetian canal need pushy italian men walk around right christmas decoration still pretty nice walk around take site make sure comfortable shoe place massive multiple food court pretty reasonable option family budget people look quick bite pepper chicken panda express jam',\n",
       " 'great hotel come_back conference say impress room suite actually ginormous service impeccable conference food decent but not spectacular but really ca not expect great thing try fee 6000 people conference ballroom area spacious well tailor company 5 day gather room 3 phone 2 tv tub glass shower stall separate toilet room vanity counter two sink fax printer living_room area table couch desk internet bar restaurant good say reason taxi valet service less chaotic speedy lv yes company pay 1k stay but definitely consider go_back bellagio may little elegant but not think beat square footage amenity',\n",
       " 'second time stay know nice room already get great deal bella suite venetian know totally stay get check early 2pm quick friendly breeze check counter suite also spacious comfortable bathroom big enough three u hang get_ready watch tv soak foot deluxe jacuzzi like tub living_room pretty big well fun play curtain shade remote control office need work stay even fax machine great place stay super convenient great ammenities not even leave hotel haha',\n",
       " 'venetian truly place princess three flat screen 1 main bedroom 1 living_room 1 bathroom definitely utilize three bed huge plush chaise lounge front bed princess bella suite offer great price not realize venetian one hotel stay not really need leave but let u check early check u really fast thing hope rare isolated incident girl friend get elevator go lobby 11th floor request go but whatever reason go stop entire elevator cart u go completely black freak take second light come_back elevator go_back 11th floor pick guest but quickly get take another elevator cart scary but luckily everything okay hope get check great time stay would definitely come_back',\n",
       " 'absolutely stun inside much expect beautiful inside decor little outdated but legendary time plenty store shop eat take gondola_ride great photo walk cool',\n",
       " 'happy finally find place rant venetian not make easy live la_vega entire 37 yr life second bad buffet ever absolute worst south point hotel casino one 11 yr old one 12 yr old one 4 yr old 97 4 people 18 4 yr old son eat mash potato entire salad bar 4 foot long nothing choose station little 3 item entire area dark hardly see eat proud crepe station although unbelievable ashamed not even come close compare aria caesars palace rio price would get ton selection could not even bring eat pathetic salad pay fortune',\n",
       " 'fantastic hotel luxury stay suite bachelor party weekend long bender but felt everyone hotel casino friendly attentive regardless mental condition',\n",
       " 'happy sign venetian hotel email newsletter get special send march 2008 book one tower suit 179 night business trip vegas stay many hotel vega include rio week earlier say venetian favorite far room enormous ridiculously huge bathroom beautiful fitting amenities terrific selection restaurant within hotel convenient access sand convention center staff professional personable service expect high quality establishment decor throughout hotel top notch also appoint bathroom well plush towel rob even althought include q tip nail file way could well room internet access free well fact get tower suit rather trek giant hotel block several guest get lose decidedly irritate suite but far enough strip way casino room blissfully quiet definitely stay venetian give opportunity suite suitably well appoint seat area could easily host meeting romantic room meal comfortably room_service expensive like whole hotel magnificent suite well appoint dislike walk quite distance get elevator suite signage could improve',\n",
       " 'go come vegas edc but group stay week vega group 6 but want comfortable stay book bella suite 2 queen_bed queen pull bed perfect need look outside pretty grandeur look inside huge lobby food court casino many different shop room room spacious bathroom like alalthough bed room 6 people felt separate e 2 queen_bed space tv queen pull space desk din table sort tv con lock bathroom would take housekeep service e request towel get dirty fridge mini bar but not like put drink personal food keep cool enough time check but bag take long time get u room not dealer casino nice already give bad vibe like hate life not project onto',\n",
       " 'looooooved living venetian weekend alalthough share room 6 smelly boy 2 lovely girl thoroughly enjoy suite bathroom gorgeous two sink separate vanity area big tub see thru shower complaint room_service morning drunken night order bottle evian bottle voss slice cucumber deliver room cost thirty dollar definitely one expensive hangover',\n",
       " 'decor room amaze suite another big room forget call but not normal room set venetian beautiful love design room bring back day elegant prince princess scene love window screen adjust remote perfect lighting bathroom nice nice hotel',\n",
       " 'go vegas weekend wedding let tell hotel amaze first go check palazzo front_desk let know free upgrade good suite venetian take gorgeous beautiful bathroom lounge area bed clean spacious nice view pool like fact open blind switch near bed really cool also get late checkout front_desk absolutely love stay stay next visit vegas',\n",
       " 'love stay suite hotel think claim fame high average square footage room think sleeping room good bellagio comparable price venetian great place eat shop merry time check canyon ranch spa jimmy choo one yummy italian place st mark square',\n",
       " 'stay weekend upgrade suite cost 2000 00 stay bug room take 3 call room dining clean issue management shari manuel front_desk manager rude never stay far bellagio caesar 100 good venetian',\n",
       " 'not stay ever aside much spend room book confirm total give not total pay upon checkout not even think use fridge room full mini bar item even touch charge still try charge item not even close touch room terrible view cleaning service atrocious top still charge room keep repeatedly call fix bill pay suite could save money stay anywhere else actually pleasant stay usually stay paris but want something special boyfriend birthday never abandon paris',\n",
       " 'mission throw sister memorable bachelorrete experience start go vegas stay venetian great complaint impressed upon enter hotel huge hotel amenity available 2 pool 1 visit restaurant etc reserve 2 conjoining room group feel since 8 friend go join u festivity room bathroom spacious accommodate u comfortably 8 girl stay hotel room need lot mirror especially vega minimize time need get_ready go room enough making functional less time consume staff helpful polite time really big customer service openly assist u question anything would recommend stay plan visit vega probably stay well take care hopefully experience much like mine',\n",
       " 'place use 5 star question right reason give 2 star instead one great poker room restaurant talk restaurant thomas keller emeril legasse wolfgang puck others run not room_service anything like room still awesome but service become flat awful check littler poker holiday live la_vega upgraded room pay 100 night extra not working minibar safe ok normally big deal call front_desk ask someone come fix come_back 5 30 play poker nobody room next day leave room ask housekeep come clean well installation come_back 5 hour later nothing call front_desk say send housekeeping supervisor ok great thanks 10 minute later arrive best describe reaction call meh listen yelpers not complainer service whatever not need much but hear excuse housekeeper try come room but key work almost laugh loud really key work but master key not_work not get someone else come use key specifically ask housekeep leave since need work afterwards real reason housekeeping come not bother key really not_work would find way remedy leave message phone room joke also ask supervisor look miss minibar safe reaction meh actually oh weird sometimes thing different place suite others ok search room not find anything reaction meh promise get instal correctly say strange strange meh past love venetian meh',\n",
       " 'totally tacky but beautiful tackiness mean indoor canal thing ridiculous but love shop fresco ceiling really feel_like outdoors room lovely love bathroom girl vanity separate sink could get_ready not mention nice big tub suite nice big comfy bed two tv wonderful view pool area strip not tower suite ca not compare but like room much surprise high end hotel not offer free internet access esp much cheap place like hampton inn but booze casino catch show not really matter extensive room_service menu plenty amenity thing really bother car park valet situation complete mess wait quite awhile car taxi always crowd end reserve car take u airport leave rather take chance taxi stand would definitely stay hopefully tower suite time would like check canyon ranch spa but love vega love venetian tao lot fun well would def recommend hotel',\n",
       " 'outstanding hotel really amazing suite bathroom size small apartment lap bath vega already great time but stay make much well especially 2 day really need extra comfy bed collapse',\n",
       " 'room check staff great stay right september 20 2017 disappointed casino environment cocktail waitress see play slot hour even notice cocktail waitress finally flag cocktail waitress rudely take order walk away receive drink 10 minute later another hour go see one consider price room casino amenity offer not equate disappointed',\n",
       " 'beautiful hotel nice interior absolutely gorgeous room somewhat pricey sub par rating pool southern california vegas time remember spend day pool ready go needless say pool big deal u never dirty pool vega everyone seem think normal say sun block say different thing but white crap float everywhere pool look corner pool would large disgust pile ups sunblock whatever look like float trash everything nice hotel room especially but pool dirty like seemingly normal thing really surprising not sure stay',\n",
       " 'gorgeous hotel beautiful casino great restaurant friendly service plenty pool favorite part room suite able convince friend book suite elsewhere stay u second time first time great time make sure become gratzi club member but go detail spend money hotel spend ton money cabana restaurant gamble find afterwords everything want count club must bill room oops reminder table club card would nice']"
      ]
     },
     "execution_count": 80,
     "metadata": {},
     "output_type": "execute_result"
    }
   ],
   "source": [
    "text_temp_new"
   ]
  },
  {
   "cell_type": "code",
   "execution_count": 84,
   "metadata": {},
   "outputs": [],
   "source": [
    "import pandas as pd\n",
    "import tqdm\n",
    "from tqdm import tqdm, tqdm_pandas\n",
    "from multiprocessing import Pool\n",
    "import multiprocessing\n",
    "n_cpu = multiprocessing.cpu_count()\n",
    "import re\n",
    "import numpy as np\n",
    "import gensim\n",
    "from gensim.corpora.dictionary import Dictionary\n",
    "from nltk.stem import WordNetLemmatizer\n",
    "from nltk import word_tokenize, pos_tag\n",
    "from nltk.corpus import wordnet\n",
    "import pyLDAvis.gensim\n",
    "import pyLDAvis\n",
    "from gensim.models import CoherenceModel\n",
    "%matplotlib inline"
   ]
  },
  {
   "cell_type": "code",
   "execution_count": 85,
   "metadata": {},
   "outputs": [],
   "source": [
    "def tokenize(text):\n",
    "    token = [re.sub(' ','_',x.strip()) for x in text.split(',')]\n",
    "    token = [x for x in token if x != 'food' and x != '']\n",
    "    return token"
   ]
  },
  {
   "cell_type": "code",
   "execution_count": 86,
   "metadata": {},
   "outputs": [],
   "source": [
    "def token(text, cores=n_cpu-1):\n",
    "    with Pool(processes=cores) as pool:\n",
    "        result = pool.map(tokenize,text)\n",
    "    return result"
   ]
  },
  {
   "cell_type": "code",
   "execution_count": 87,
   "metadata": {},
   "outputs": [],
   "source": [
    "mydict = Dictionary(ggg)"
   ]
  },
  {
   "cell_type": "code",
   "execution_count": 88,
   "metadata": {},
   "outputs": [],
   "source": [
    "mycorpus = [mydict.doc2bow(text) for text in ggg]"
   ]
  },
  {
   "cell_type": "code",
   "execution_count": 91,
   "metadata": {},
   "outputs": [],
   "source": [
    "lda_model = LDA.LdaModel(mycorpus,\n",
    "                         id2word=mydict,\n",
    "                         num_topics = 5,\n",
    "                         alpha='auto',\n",
    "                         per_word_topics=True,\n",
    "                         random_state = 123)"
   ]
  },
  {
   "cell_type": "code",
   "execution_count": 92,
   "metadata": {
    "scrolled": true
   },
   "outputs": [
    {
     "data": {
      "text/plain": [
       "[(0,\n",
       "  '0.024*\"hotel\" + 0.023*\"room\" + 0.016*\"stay\" + 0.014*\"not\" + 0.013*\"venetian\" + 0.010*\"but\" + 0.008*\"time\" + 0.008*\"great\" + 0.008*\"suite\" + 0.007*\"get\"'),\n",
       " (1,\n",
       "  '0.018*\"room\" + 0.018*\"not\" + 0.015*\"stay\" + 0.011*\"but\" + 0.009*\"hotel\" + 0.008*\"great\" + 0.007*\"casino\" + 0.006*\"get\" + 0.006*\"suite\" + 0.006*\"food\"'),\n",
       " (2,\n",
       "  '0.019*\"room\" + 0.010*\"venetian\" + 0.009*\"not\" + 0.007*\"but\" + 0.007*\"hotel\" + 0.007*\"get\" + 0.006*\"suite\" + 0.006*\"need\" + 0.005*\"stay\" + 0.005*\"food\"'),\n",
       " (3,\n",
       "  '0.015*\"stay\" + 0.014*\"room\" + 0.013*\"not\" + 0.012*\"one\" + 0.010*\"hotel\" + 0.009*\"but\" + 0.008*\"get\" + 0.007*\"venetian\" + 0.007*\"would\" + 0.007*\"suite\"'),\n",
       " (4,\n",
       "  '0.023*\"room\" + 0.020*\"hotel\" + 0.019*\"not\" + 0.018*\"but\" + 0.012*\"stay\" + 0.011*\"great\" + 0.010*\"venetian\" + 0.008*\"suite\" + 0.008*\"go\" + 0.008*\"nice\"')]"
      ]
     },
     "execution_count": 92,
     "metadata": {},
     "output_type": "execute_result"
    }
   ],
   "source": [
    "lda_model.print_topics()"
   ]
  },
  {
   "cell_type": "markdown",
   "metadata": {},
   "source": [
    "## Failed, there is nothing useful through this way, maybe because the lack of samples."
   ]
  }
 ],
 "metadata": {
  "kernelspec": {
   "display_name": "Python 3",
   "language": "python",
   "name": "python3"
  },
  "language_info": {
   "codemirror_mode": {
    "name": "ipython",
    "version": 3
   },
   "file_extension": ".py",
   "mimetype": "text/x-python",
   "name": "python",
   "nbconvert_exporter": "python",
   "pygments_lexer": "ipython3",
   "version": "3.6.5"
  }
 },
 "nbformat": 4,
 "nbformat_minor": 2
}
