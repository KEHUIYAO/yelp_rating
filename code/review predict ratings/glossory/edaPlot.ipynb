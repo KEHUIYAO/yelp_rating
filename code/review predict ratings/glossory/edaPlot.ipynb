{
 "cells": [
  {
   "cell_type": "code",
   "execution_count": 2,
   "metadata": {},
   "outputs": [],
   "source": [
    "def edaPlot(x:list,y:list,title:str,saveFile:bool):\n",
    "    import numpy as np\n",
    "    import matplotlib.pyplot as plt\n",
    "    \"\"\"x is the attribute, y is the average stars\"\"\"\n",
    "    fig,ax=plt.subplots()\n",
    "    ax.bar(x,y,facecolor='blue',width=0.4)\n",
    "    ax.set_xlabel(\"factor level\")\n",
    "    ax.set_ylabel(\"average stars\")\n",
    "    ax.set_title(title)\n",
    "    if saveFile:\n",
    "        fig.savefig('./fig/{}'.format(title), format='png',dpi=800)"
   ]
  }
 ],
 "metadata": {
  "kernelspec": {
   "display_name": "Python 3",
   "language": "python",
   "name": "python3"
  },
  "language_info": {
   "codemirror_mode": {
    "name": "ipython",
    "version": 3
   },
   "file_extension": ".py",
   "mimetype": "text/x-python",
   "name": "python",
   "nbconvert_exporter": "python",
   "pygments_lexer": "ipython3",
   "version": "3.7.1"
  }
 },
 "nbformat": 4,
 "nbformat_minor": 2
}
